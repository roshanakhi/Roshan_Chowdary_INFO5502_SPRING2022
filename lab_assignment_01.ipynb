{
  "cells": [
    {
      "cell_type": "markdown",
      "metadata": {
        "id": "view-in-github",
        "colab_type": "text"
      },
      "source": [
        "<a href=\"https://colab.research.google.com/github/roshanakhi/Roshan_Chowdary_INFO5502_SPRING2022/blob/main/lab_assignment_01.ipynb\" target=\"_parent\"><img src=\"https://colab.research.google.com/assets/colab-badge.svg\" alt=\"Open In Colab\"/></a>"
      ]
    },
    {
      "cell_type": "markdown",
      "metadata": {
        "id": "DymRJbxDBCnf"
      },
      "source": [
        "# **The first Lab-assignment (01/25/2022, 50 points in total)**"
      ]
    },
    {
      "cell_type": "markdown",
      "metadata": {
        "id": "jJDe71iLB616"
      },
      "source": [
        "(1) Write a Python program to count the number of characters in a string. (5 points)\n",
        "\n",
        "Sample String : 'google.com', \n",
        "\n",
        "Expected Result : {'o': 3, 'g': 2, '.': 1, 'e': 1, 'l': 1, 'm': 1, 'c': 1}"
      ]
    },
    {
      "cell_type": "code",
      "execution_count": 15,
      "metadata": {
        "colab": {
          "base_uri": "https://localhost:8080/"
        },
        "id": "MtKskTzbCLaU",
        "outputId": "15893da2-71c2-420d-f34d-1c9a3a04d4c5"
      },
      "outputs": [
        {
          "output_type": "stream",
          "name": "stdout",
          "text": [
            "google.com\n",
            "{'c': 1, 'm': 1, 'g': 2, '.': 1, 'l': 1, 'e': 1, 'o': 3}\n"
          ]
        }
      ],
      "source": [
        "# write your answer here\n",
        "givenString = input()\n",
        "uniqueChar = set(givenString)\n",
        "count = {}\n",
        "for i in uniqueChar:\n",
        "    count[i] = 0\n",
        "for i in givenString:\n",
        "    count[i] += 1\n",
        "print(count)"
      ]
    },
    {
      "cell_type": "markdown",
      "metadata": {
        "id": "55W9AMdXCSpV"
      },
      "source": [
        "(2) Write a Python program to sum all the items in a list. (5 points)"
      ]
    },
    {
      "cell_type": "code",
      "execution_count": 4,
      "metadata": {
        "colab": {
          "base_uri": "https://localhost:8080/"
        },
        "id": "I57NXsauCec2",
        "outputId": "552b6a34-3450-4724-c7cf-2622264275f8"
      },
      "outputs": [
        {
          "output_type": "stream",
          "name": "stdout",
          "text": [
            "3\n",
            "2\n",
            "3\n",
            "4\n",
            "9\n"
          ]
        }
      ],
      "source": [
        "# write your answer here\n",
        "A=[]\n",
        "n=int(input(''))\n",
        "for i in range(n):\n",
        "  a=int(input(''))\n",
        "  A.append(a)\n",
        "print(sum(A)) "
      ]
    },
    {
      "cell_type": "markdown",
      "metadata": {
        "id": "4ulBZ6yhCi9F"
      },
      "source": [
        "(3) Write a Python program to get a string from a given string where all occurrences of its first char have been changed to '\\$', except the first char itself. (5 points)\n",
        "\n",
        "Sample String : 'restart', \n",
        "\n",
        "Expected Result : 'resta\\$t'"
      ]
    },
    {
      "cell_type": "code",
      "execution_count": null,
      "metadata": {
        "id": "Fj0XhwbBCw2o"
      },
      "outputs": [],
      "source": [
        "# write your answer here\n",
        "a=input()\n",
        "b=a[0]\n",
        "c=len(a)\n",
        "a=a.replace(b,'$')\n",
        "a=b+a[1:]\n",
        "print(a)"
      ]
    },
    {
      "cell_type": "markdown",
      "metadata": {
        "id": "_bIP7s1MCzue"
      },
      "source": [
        "(4) Write a program with python which could accept two parameter a and b to calculate and output the result of S, where \n",
        "\n",
        "$\\ S=3.14*(1+a/b)^3$ (5 points)\n",
        "\n"
      ]
    },
    {
      "cell_type": "code",
      "execution_count": 11,
      "metadata": {
        "colab": {
          "base_uri": "https://localhost:8080/"
        },
        "id": "w79QilHXD3Mg",
        "outputId": "4cc97a7b-fa05-4c4d-bbc0-ef20af87f14a"
      },
      "outputs": [
        {
          "output_type": "stream",
          "name": "stdout",
          "text": [
            "1\n",
            "3\n",
            "7.4429629629629614\n"
          ]
        }
      ],
      "source": [
        "# write your answer here\n",
        "a = int(input())\n",
        "b = int(input())\n",
        "s = 3.14 * (1 + a / b) ** 3\n",
        "print(s)"
      ]
    },
    {
      "cell_type": "markdown",
      "metadata": {
        "id": "xCa2bK9aD4Q3"
      },
      "source": [
        "(5) Write a Python program to concatenate following dictionaries to create a new one. (5 points)\n",
        "\n",
        "Sample Dictionary : dic1={1:10, 2:20}, dic2={3:30, 4:40}, dic3={5:50,6:60}, \n",
        "\n",
        "Expected Result : {1: 10, 2: 20, 3: 30, 4: 40, 5: 50, 6: 60}\n"
      ]
    },
    {
      "cell_type": "code",
      "execution_count": 10,
      "metadata": {
        "colab": {
          "base_uri": "https://localhost:8080/"
        },
        "id": "_z4aLqAbEET1",
        "outputId": "66c8747b-3144-4f93-8c52-567c0c2ff2fa"
      },
      "outputs": [
        {
          "output_type": "stream",
          "name": "stdout",
          "text": [
            "{1: 10, 2: 20, 3: 30, 4: 40, 5: 50, 6: 60}\n"
          ]
        }
      ],
      "source": [
        "# write your answer here\n",
        "dic1 = {1: 10, 2: 20}\n",
        "dic2 = {3: 30, 4: 40}\n",
        "dic3 = {5: 50, 6: 60}\n",
        "print({**dic1, **dic2, **dic3})"
      ]
    },
    {
      "cell_type": "markdown",
      "metadata": {
        "id": "0v48Vqa7FrQh"
      },
      "source": [
        "(6) Write a Python program to check whether an element exists within a tuple. (5 points)"
      ]
    },
    {
      "cell_type": "code",
      "execution_count": 9,
      "metadata": {
        "colab": {
          "base_uri": "https://localhost:8080/"
        },
        "id": "7WEmgq-DF2P1",
        "outputId": "ef40855d-0d90-4e95-f256-759212d5d04b"
      },
      "outputs": [
        {
          "output_type": "stream",
          "name": "stdout",
          "text": [
            "False\n",
            "True\n"
          ]
        }
      ],
      "source": [
        "# write your answer here\n",
        "a = (\"test\", \"exam\", \"examination\")\n",
        "print(a.__contains__(\"tests\"))\n",
        "print(a.__contains__(\"test\"))"
      ]
    },
    {
      "cell_type": "markdown",
      "metadata": {
        "id": "vD5PYLMuGga_"
      },
      "source": [
        "(7) Write a Python program to find maximum and the minimum value in a set. (5 points)"
      ]
    },
    {
      "cell_type": "code",
      "execution_count": 8,
      "metadata": {
        "colab": {
          "base_uri": "https://localhost:8080/"
        },
        "id": "t0D5kdJUGjjw",
        "outputId": "d398162d-fd36-4ea2-ab3f-6af2b33670f1"
      },
      "outputs": [
        {
          "output_type": "stream",
          "name": "stdout",
          "text": [
            "435\n",
            "4\n"
          ]
        }
      ],
      "source": [
        "# write your answer here\n",
        "a = set([10, 4, 23, 435, 43, 5])\n",
        "print(max(a))\n",
        "print(min(a))"
      ]
    },
    {
      "cell_type": "markdown",
      "metadata": {
        "id": "uHkd-y5VhVWC"
      },
      "source": [
        "(8) Write a Python program to randomly divide the students in this class into six groups for term projects, each group should have at least 4 students but no more than 6 students (including 6). Here is the students list: (5 points)\n",
        "\n",
        "studnet_list = ['ja0964','sa1198','sb1357','vb0218','sc1229','kg0569','kg0470','sg1297','bg0320','fh0141','jl1252','sk1386',\n",
        "           'ak0956','sk1390','sk1458','sk1313','ak0934','vm0377','nm0618','sm1640','sm1907','gn0108','pr0353','dr0609','ms1500','aos0040','ds0814', 'av0659','nv0234','hy0232']"
      ]
    },
    {
      "cell_type": "code",
      "execution_count": 7,
      "metadata": {
        "colab": {
          "base_uri": "https://localhost:8080/"
        },
        "id": "3iGbmcOBhTwy",
        "outputId": "bb538bda-4a95-489a-d5fd-7bd7f0f614bb"
      },
      "outputs": [
        {
          "output_type": "stream",
          "name": "stdout",
          "text": [
            "[['sa1198', 'nv0234', 'sk1386', 'sm1640', 'gn0108', 'nm0618'], ['kg0470', 'vm0377', 'jl1252', 'ds0814', 'bg0320', 'sc1229'], ['av0659', 'sg1297', 'ja0964', 'hy0232', 'kg0569', 'aos0040'], ['sk1390', 'sm1907', 'ms1500', 'fh0141', 'sk1458', 'vb0218'], ['sb1357', 'sk1313', 'pr0353', 'dr0609', 'ak0956', 'ak0934']]\n"
          ]
        }
      ],
      "source": [
        "# write your answer here\n",
        "import random\n",
        "student_list = ['ja0964', 'sa1198', 'sb1357', 'vb0218', 'sc1229', 'kg0569', 'kg0470', 'sg1297', 'bg0320', 'fh0141',\n",
        "                'jl1252', 'sk1386', 'ak0956', 'sk1390', 'sk1458', 'sk1313', 'ak0934', 'vm0377', 'nm0618', 'sm1640',\n",
        "                'sm1907', 'gn0108', 'pr0353', 'dr0609', 'ms1500', 'aos0040', 'ds0814', 'av0659', 'nv0234', 'hy0232']\n",
        "random_list = []\n",
        "for i in range(0, 5):\n",
        "    random_list.append([])\n",
        "i = 0\n",
        "while len(student_list) != 0:\n",
        "    randomNumber = random.randint(0, len(student_list)-1)\n",
        "    temp = student_list.pop(randomNumber)\n",
        "    if len(random_list[i]) >= 6:\n",
        "        i += 1\n",
        "    random_list[i].append(temp)\n",
        "print(random_list)"
      ]
    },
    {
      "cell_type": "markdown",
      "metadata": {
        "id": "_mJ5k-rXqMm7"
      },
      "source": [
        "(9) Write a Python program to find the duplicate elements in a given array of integers. Return -1 If there are no such elements. (5 points)"
      ]
    },
    {
      "cell_type": "code",
      "execution_count": 6,
      "metadata": {
        "colab": {
          "base_uri": "https://localhost:8080/"
        },
        "id": "ROnzXJOEqMm8",
        "outputId": "93c005eb-c01b-427f-fe02-d0fc5f6bbc36"
      },
      "outputs": [
        {
          "output_type": "stream",
          "name": "stdout",
          "text": [
            "1 23 54 7 1\n",
            "[1]\n"
          ]
        }
      ],
      "source": [
        "# write your answer here\n",
        "givenList = [int(x) for x in input().split()]\n",
        "duplicateElements = []\n",
        "for indexI, i in enumerate(givenList):\n",
        "    for indexJ, j in enumerate(givenList):\n",
        "        if i == j and indexI != indexJ:\n",
        "            duplicateElements.append(i)\n",
        "            break\n",
        "if len(duplicateElements) == 0:\n",
        "    print(-1)\n",
        "else:\n",
        "    print(list(set(duplicateElements)))"
      ]
    },
    {
      "cell_type": "markdown",
      "metadata": {
        "id": "5FewSDp9qMm9"
      },
      "source": [
        "(10) Write a Python program to select all the Sundays of a specified year. (5 extra points)"
      ]
    },
    {
      "cell_type": "code",
      "execution_count": 5,
      "metadata": {
        "colab": {
          "base_uri": "https://localhost:8080/"
        },
        "id": "bJM7TJL-qMm9",
        "outputId": "054723cb-f567-4be9-aa3f-6f4f9f7dded3"
      },
      "outputs": [
        {
          "output_type": "stream",
          "name": "stdout",
          "text": [
            "2000\n",
            "['2000-01-02', '2000-01-09', '2000-01-16', '2000-01-23', '2000-01-30', '2000-02-06', '2000-02-13', '2000-02-20', '2000-02-27', '2000-03-05', '2000-03-12', '2000-03-19', '2000-03-26', '2000-04-02', '2000-04-09', '2000-04-16', '2000-04-23', '2000-04-30', '2000-05-07', '2000-05-14', '2000-05-21', '2000-05-28', '2000-06-04', '2000-06-11', '2000-06-18', '2000-06-25', '2000-07-02', '2000-07-09', '2000-07-16', '2000-07-23', '2000-07-30', '2000-08-06', '2000-08-13', '2000-08-20', '2000-08-27', '2000-09-03', '2000-09-10', '2000-09-17', '2000-09-24', '2000-10-01', '2000-10-08', '2000-10-15', '2000-10-22', '2000-10-29', '2000-11-05', '2000-11-12', '2000-11-19', '2000-11-26', '2000-12-03', '2000-12-10', '2000-12-17', '2000-12-24', '2000-12-31']\n"
          ]
        }
      ],
      "source": [
        "# write your answer here\n",
        "from datetime import date, timedelta\n",
        "year = int(input())\n",
        "startDate = date(year, 1, 1)\n",
        "for i in range(7):\n",
        "    startDate += timedelta(days=1)\n",
        "    # print(startDate.weekday())\n",
        "    if startDate.weekday() == 6:\n",
        "        break\n",
        "date = []\n",
        "while startDate.year == year:\n",
        "    date.append(str(startDate))\n",
        "    startDate += timedelta(weeks=1)\n",
        "print(date)"
      ]
    }
  ],
  "metadata": {
    "colab": {
      "collapsed_sections": [],
      "name": "lab_assignment_01.ipynb",
      "provenance": [],
      "include_colab_link": true
    },
    "kernelspec": {
      "display_name": "Python 3",
      "language": "python",
      "name": "python3"
    },
    "language_info": {
      "codemirror_mode": {
        "name": "ipython",
        "version": 3
      },
      "file_extension": ".py",
      "mimetype": "text/x-python",
      "name": "python",
      "nbconvert_exporter": "python",
      "pygments_lexer": "ipython3",
      "version": "3.8.5"
    }
  },
  "nbformat": 4,
  "nbformat_minor": 0
}