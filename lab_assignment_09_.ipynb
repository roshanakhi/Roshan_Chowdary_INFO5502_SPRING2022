{
  "cells": [
    {
      "cell_type": "markdown",
      "metadata": {
        "id": "view-in-github",
        "colab_type": "text"
      },
      "source": [
        "<a href=\"https://colab.research.google.com/github/roshanakhi/Roshan_Chowdary_INFO5502_SPRING2022/blob/main/lab_assignment_09_.ipynb\" target=\"_parent\"><img src=\"https://colab.research.google.com/assets/colab-badge.svg\" alt=\"Open In Colab\"/></a>"
      ]
    },
    {
      "cell_type": "markdown",
      "metadata": {
        "id": "TTaYeO6qizpN"
      },
      "source": [
        "## The ninth Lab-assignment (04/14/2022, 50 points in total)"
      ]
    },
    {
      "cell_type": "markdown",
      "metadata": {
        "id": "CeOdG9UJizpT"
      },
      "source": [
        "The purpose of this assignment is to practice different Hypothesis Testing."
      ]
    },
    {
      "cell_type": "markdown",
      "metadata": {
        "id": "crLu8s2PizpU"
      },
      "source": [
        "### Question 1 (15 points) \n",
        "\n",
        "During the 1980s, the general consensus is that about 5% of the nation’s children had autism. Some claimed that increases certain chemicals in the environment has led to an increase in autism. \n",
        "\n",
        "(1) Write an appropriate hypothesis test for this situation (5 points).  \n",
        "\n",
        "(2) Give an appropriate test for this hypothesis, stating what are the necessary conditions for performing the test (5 points). \n",
        "\n",
        "(3) A recent study examined 384 children and found that 46 showed signs of autism. Perform a test of the hypothesis and state the p-value (5 points). "
      ]
    },
    {
      "cell_type": "code",
      "source": [
        "#1.) Ans:\n",
        "'''. Null : 5% children has autism\n",
        "\n",
        ". Alternate : more than 5% of the nation's children had autism.'''"
      ],
      "metadata": {
        "id": "Rp2oMoW02MJA"
      },
      "execution_count": null,
      "outputs": []
    },
    {
      "cell_type": "code",
      "source": [
        "'''2.) Ans:\n",
        ". If (n < 30), t-test\n",
        ". If (n>30),z-test.\\'''"
      ],
      "metadata": {
        "id": "y9dK-giS2kac"
      },
      "execution_count": null,
      "outputs": []
    },
    {
      "cell_type": "code",
      "execution_count": null,
      "metadata": {
        "colab": {
          "base_uri": "https://localhost:8080/"
        },
        "id": "XuD-T_2fizpX",
        "outputId": "1e5edaec-709b-4d79-dfc6-1cced1d24a5f"
      },
      "outputs": [
        {
          "output_type": "stream",
          "name": "stdout",
          "text": [
            "Z-st -77.2644132497523\n",
            "p-va 0.0\n"
          ]
        }
      ],
      "source": [
        "from statsmodels.stats.proportion import proportions_ztest\n",
        "\n",
        "p = 0.05\n",
        "n_po = 384\n",
        "x_sample = 46\n",
        "\n",
        "print(\"Z-st\", proportions_ztest(count = 5, nobs = n_po, value= 0.46)[0])\n",
        "print(\"p-va\", proportions_ztest(count = 5, nobs = n_po, value = 0.46)[1])\n"
      ]
    },
    {
      "cell_type": "markdown",
      "metadata": {
        "id": "V_ZzVIRHizpb"
      },
      "source": [
        "### Question 2 (15 points) \n",
        "\n",
        "National data in the 1960s showed that about 44% of the adult population had never smoked. \n",
        "\n",
        "(1) State a null and alternative hypothesis to test that the fraction of the 1995 population of adults that had never smoked had increased (5 points).  \n",
        "\n",
        "(2) A national random sample of 891 adults were interviewed and 463 stated that they had never smoked. Perform a z-test of the hypothesis and give an approriate p-value (5 points). \n",
        "\n",
        "(3) Create a 98% confidence interval for the proportion of adults who had never been smokers (5 points). "
      ]
    },
    {
      "cell_type": "code",
      "source": [
        "'''1.) Ans:\n",
        ". Null: Adults are more populated like 44%\n",
        "\n",
        ". Alternate :Adults population is less than or equal to 44%.'''"
      ],
      "metadata": {
        "id": "45gWVTSA26dX"
      },
      "execution_count": null,
      "outputs": []
    },
    {
      "cell_type": "code",
      "execution_count": null,
      "metadata": {
        "colab": {
          "base_uri": "https://localhost:8080/"
        },
        "id": "krA4jyylizpc",
        "outputId": "2b75f8ef-0661-4b3a-ebab-bfde36d7a9d8"
      },
      "outputs": [
        {
          "output_type": "stream",
          "name": "stdout",
          "text": [
            "Z-stat value is -631.062712892761\n",
            "p-value is 0.0\n"
          ]
        }
      ],
      "source": [
        "# 2.)\n",
        "\n",
        "from statsmodels.stats.proportion import proportions_ztest\n",
        "\n",
        "p = 0.05\n",
        "n_po = 891\n",
        "x_sample = 463\n",
        "\n",
        "print(\"Z-stat value is\", proportions_ztest(count = 44, nobs = n_po, value = 4.63)[0])\n",
        "print(\"p-value is\", proportions_ztest(count = 5, nobs = n_po, value = 4.63)[1])\n"
      ]
    },
    {
      "cell_type": "markdown",
      "metadata": {
        "id": "r9atcbwRizpd"
      },
      "source": [
        "2.)\\\n",
        ". The p-value is 0.0.\n"
      ]
    },
    {
      "cell_type": "code",
      "execution_count": null,
      "metadata": {
        "colab": {
          "base_uri": "https://localhost:8080/"
        },
        "id": "qDqiej7Oizpd",
        "outputId": "eb39f39e-894d-4c90-a987-56dbbcec81d2"
      },
      "outputs": [
        {
          "output_type": "stream",
          "name": "stdout",
          "text": [
            "The 98 % confidence interval for adult population that never smoked are\n",
            " (33.2095762998281, 54.7904237001719)\n"
          ]
        }
      ],
      "source": [
        "# your code here\n",
        "# 3.)\n",
        "import numpy as np\n",
        "import scipy.stats as st\n",
        "\n",
        "n_po= 891\n",
        "\n",
        "# create 95% confidence interval\n",
        "print(\"The 98 % confidence interval for adult population that never smoked are\\n\", st.t.interval(alpha=0.98,\n",
        "              df = n_po-1,\n",
        "              loc = 44, \n",
        "              scale = 4.63))\n"
      ]
    },
    {
      "cell_type": "markdown",
      "metadata": {
        "id": "7lV0JpgRizpe"
      },
      "source": [
        "### Question 3 (15 points) \n",
        "In this problem,we will examine the sugar content of several national brands of cereals, here measured as a percentage of weight.\n",
        "\n",
        "(1) Give a summary of these two datasets (5 points). \n",
        "\n",
        "(2) Create side-by-side boxplots and interpret what you see (5 points). \n",
        "\n",
        "(3) Use python to create a 95% confidence interval for the difference in mean sugar content and explain your result (5 points). "
      ]
    },
    {
      "cell_type": "code",
      "execution_count": null,
      "metadata": {
        "colab": {
          "base_uri": "https://localhost:8080/"
        },
        "id": "1UdkzuoOizpe",
        "outputId": "ee7602b9-d128-40be-e8f2-c16c3e0fdad4"
      },
      "outputs": [
        {
          "output_type": "stream",
          "name": "stdout",
          "text": [
            "Mean of sugar percent in cereals brands of children 46.800000000000004\n",
            "Std.Deviation of sugar percent in cereals brands of children 6.24718884147523\n",
            "\n",
            "Std.Deviation of sugar percent in cereals brands of children 10.153571428571427\n",
            "Std.Deviation of sugar percent in cereals brands of children 7.475220118252474\n"
          ]
        }
      ],
      "source": [
        "# 1.)\n",
        "import numpy as np\n",
        "\n",
        "# sample data\n",
        "ch = [40.3, 55.0, 45.7, 43.3, 50.3, 45.9, 53.5, 43.0, 44.2, 44.0, 33.6, 55.1, 48.8,\n",
        "            50.4, 37.8, 60.3, 46.6, 47.4, 44.0]\n",
        "\n",
        "ad = [20.0, 30.2, 2.2, 7.5, 4.4, 22.2, 16.6, 14.5, 21.4, 3.3, 10.0, 1.0, 4.4, 1.3, 8.1, 6.6, 7.8, 10.6, 16.2, 14.5,\n",
        "        4.1, 15.8, 4.1, 2.4, 3.5, 8.5, 4.7, 18.4]\n",
        "\n",
        "print(\"Mean of sugar percent in cereals brands of children\", np.mean(ch))\n",
        "print(\"Std.Deviation of sugar percent in cereals brands of children\", np.std(ch))\n",
        "print()\n",
        "print(\"Std.Deviation of sugar percent in cereals brands of children\", np.mean(ad))\n",
        "print(\"Std.Deviation of sugar percent in cereals brands of children\", np.std(ad))"
      ]
    },
    {
      "cell_type": "code",
      "execution_count": null,
      "metadata": {
        "colab": {
          "base_uri": "https://localhost:8080/",
          "height": 265
        },
        "id": "c1T9uVMvizpf",
        "outputId": "d71d78d4-cc7d-482f-df3b-f281f4752c58"
      },
      "outputs": [
        {
          "output_type": "display_data",
          "data": {
            "text/plain": [
              "<Figure size 432x288 with 2 Axes>"
            ],
            "image/png": "[encoded data removed]"
          },
          "metadata": {
            "needs_background": "light"
          }
        }
      ],
      "source": [
        "# 2.)\n",
        "\n",
        "import matplotlib.pyplot as plt\n",
        "import numpy as np\n",
        " \n",
        "ch = [40.3, 55.0, 45.7, 43.3, 50.3, 45.9, 53.5, 43.0, 44.2, 44.0, 33.6, 55.1, 48.8,\n",
        "            50.4, 37.8, 60.3, 46.6, 47.4, 44.0]\n",
        "\n",
        "ad = [20.0, 30.2, 2.2, 7.5, 4.4, 22.2, 16.6, 14.5, 21.4, 3.3, 10.0, 1.0, 4.4, 1.3, 8.1, 6.6, 7.8, 10.6, 16.2, 14.5,\n",
        "        4.1, 15.8, 4.1, 2.4, 3.5, 8.5, 4.7, 18.4]\n",
        "\n",
        "plt.subplot(1, 2, 1)\n",
        "# Creating box plot\n",
        "plt.boxplot(ch)\n",
        "\n",
        "\n",
        "plt.subplot(1, 2, 2)\n",
        "# Creating box plot\n",
        "plt.boxplot(ad)\n",
        " \n",
        "# show plot\n",
        "plt.show()"
      ]
    },
    {
      "cell_type": "markdown",
      "metadata": {
        "id": "sEXM53iSizpf"
      },
      "source": [
        "Explanation:\\\n",
        ". We observe that the there are no outliers in adult cereal brand sugar percent.\\\n",
        ". There is an outlier in children's cereal brand sugar percent.\\\n",
        ". The ranges of both the list of values are different."
      ]
    },
    {
      "cell_type": "code",
      "execution_count": null,
      "metadata": {
        "id": "CC9eLfEhizpg",
        "outputId": "8b306e18-e403-4c8e-a785-64306da5816d",
        "colab": {
          "base_uri": "https://localhost:8080/"
        }
      },
      "outputs": [
        {
          "output_type": "stream",
          "name": "stdout",
          "text": [
            "The 95% confidence interval for sugar content of cereals for children are  (43.706441602172454, 49.893558397827555)\n",
            "The 95% confidence interval for sugar content of cereals for adult are  (7.201794131005471, 13.105348726137382)\n"
          ]
        }
      ],
      "source": [
        "# You answer here\n",
        "import numpy as np\n",
        "import scipy.stats as st\n",
        "\n",
        "# sample data\n",
        "ch= [40.3, 55.0, 45.7, 43.3, 50.3, 45.9, 53.5, 43.0, 44.2, 44.0, 33.6, 55.1, 48.8,\n",
        "            50.4, 37.8, 60.3, 46.6, 47.4, 44.0]\n",
        "\n",
        "ad = [20.0, 30.2, 2.2, 7.5, 4.4, 22.2, 16.6, 14.5, 21.4, 3.3, 10.0, 1.0, 4.4, 1.3, 8.1, 6.6, 7.8, 10.6, 16.2, 14.5,\n",
        "        4.1, 15.8, 4.1, 2.4, 3.5, 8.5, 4.7, 18.4]\n",
        "\n",
        "  \n",
        "# create 95% confidence interval\n",
        "print(\"The 95% confidence interval for sugar content of cereals for children are \", st.t.interval(alpha=0.95,\n",
        "              df=len(ch)-1,\n",
        "              loc=np.mean(ch), \n",
        "              scale=st.sem(ch)))\n",
        "\n",
        "print(\"The 95% confidence interval for sugar content of cereals for adult are \",st.t.interval(alpha=0.95,\n",
        "              df=len(ad)-1,\n",
        "              loc=np.mean(ad), \n",
        "              scale=st.sem(ad)))"
      ]
    },
    {
      "cell_type": "markdown",
      "metadata": {
        "id": "ZHPv8CMcizpg"
      },
      "source": [
        "Explanation:\\\n",
        ". The 95% confidence interval for children says that sugar content percent of cereals for children brands is between 43.70 and 49.89 where 95% of observations lies.\\\n",
        "\\\n",
        ". The 95% confidence interval for adults says that sugar content percent of cereals for adult brands is between 7.20 and 13.10 where 95% of observations lies."
      ]
    },
    {
      "cell_type": "markdown",
      "metadata": {
        "id": "G9e6NgiHizph"
      },
      "source": [
        "### Question 4 (15 points, with 10 extra point included) A/B Testing"
      ]
    },
    {
      "cell_type": "markdown",
      "metadata": {
        "id": "SbjAlpk9izph"
      },
      "source": [
        "Punishment for crime has many [philosophical justifications](http://plato.stanford.edu/entries/punishment/#ThePun).  An important one is that fear of punishment may *deter* people from committing crimes.\n",
        "\n",
        "In the United States, some jurisdictions execute people who are convicted of particularly serious crimes, such as murder.  This punishment is called the *death penalty* or *capital punishment*.  The death penalty is controversial, and deterrence has been one focal point of the debate.  There are other reasons to support or oppose the death penalty, but in this project we'll focus on deterrence.\n",
        "\n",
        "The key question about deterrence is:\n",
        "\n",
        "> Through our exploration, does instituting a death penalty for murder actually reduce the number of murders?\n",
        "\n",
        "You might have a strong intuition in one direction, but the evidence turns out to be surprisingly complex.  Different sides have variously argued that the death penalty has no deterrent effect and that each execution prevents 8 murders, all using statistical arguments!  We'll try to come to our own conclusion.\n",
        "\n",
        "#### The data\n",
        "\n",
        "The main data source for this lab comes from a [paper](http://cjlf.org/deathpenalty/DezRubShepDeterFinal.pdf) by three researchers, Dezhbakhsh, Rubin, and Shepherd.  The dataset contains rates of various violent crimes for every year 1960-2003 (44 years) in every US state.  The researchers compiled the data from the FBI's Uniform Crime Reports.\n",
        "\n",
        "Since crimes are committed by people, not states, we need to account for the number of people in each state when we're looking at state-level data.  Murder rates are calculated as follows:\n",
        "\n",
        "$$\\text{murder rate for state X in year Y} = \\frac{\\text{number of murders in state X in year Y}}{\\text{population in state X in year Y}}*100000$$\n",
        "\n",
        "(Murder is rare, so we multiply by 100,000 just to avoid dealing with tiny numbers.)\n",
        "\n",
        "Murder rates vary over time, and different states exhibit different trends. The rates in some states change dramatically from year to year, while others are quite stable. Let's plot a couple, just to see the variety.\n",
        "\n",
        "*Hint*: To create two lines, you will need create the table `ak_mn` with two columns of murder rates, in addition to a column of years. This table will have the following structure:\n",
        "\n",
        "| Year | Murder rate in Alaska | Murder rate in Minnesota |\n",
        "|------|-----------------------|--------------------------|\n",
        "| 1960 | 10.2                  | 1.2                      |\n",
        "| 1961 | 11.5                  | 1                        |\n",
        "| 1962 | 4.5                   | 0.9                      |\n",
        "\n",
        "<center>... (41 rows omitted)</center>\n",
        "\n",
        "Some US states have the death penalty, and others don't, and laws have changed over time. In addition to changes in murder rates, we will also consider whether the death penalty was in force in each state and each year.\n",
        "\n",
        "Using this information, we would like to investigate how the presence of the death penalty affects the murder rate of a state."
      ]
    },
    {
      "cell_type": "markdown",
      "metadata": {
        "id": "LmahiTDDizph"
      },
      "source": [
        "(1) Use preban_rates_copy and postban_rates to create a table change_in_death_rates that contains each state's population, murder rate, and whether or not that state had the death penalty for both 1971 and 1973. (5 points)\n",
        "\n",
        "Create a table rate_means that contains the average murder rates for the states that had the death penalty and the states that didn't have the death penalty. It should have two columns: one indicating if the penalty was in place, and one that contains the average murder rate for each group.\n",
        "\n",
        "Hint: tbl_1.append(tbl_2) with create a new table that includes rows from both tbl_1 and tbl_2. Both tables must have the exactly the same columns, in the same order.\n",
        "\n",
        "(2) We want to figure out if there is a difference between the distribution of death rates in 1971 and 1973. Specifically, we want to test if murder rates were higher in 1973 than they were in 1971. You are required to conduct A/B Testing below (10 points):\n",
        "\n",
        "(2-1) Set observed_difference to the observed test statistic using the rate_means table. \n",
        "\n",
        "\n",
        "(2-2) Given a table like change_in_death_rates, a value column label, and a group column group_label, write a function that calculates the appropriate test statistic.\n",
        "\n",
        "(2-3) Write a function simulate_and_test_statistic to compute one trial of our A/B test. Your function should run a simulation and return a test statistic.\n",
        "\n",
        "(2-4) Simulate 5000 trials of our A/B test and store the test statistics in an array called differences.\n",
        "\n",
        "(2-5) Find the p-value for your test and assign it to empirical_P.\n",
        "\n",
        "(2-6) Using a 5% P-value cutoff, draw a conclusion about the null and alternative hypotheses. Describe your findings using simple, non-technical language. What does your analysis tell you about murder rates after the death penalty was suspended? What can you claim about causation from your statistical analysis?\n"
      ]
    },
    {
      "cell_type": "code",
      "source": [
        "from google.colab import drive\n",
        "drive.mount('/content/gdrive')"
      ],
      "metadata": {
        "colab": {
          "base_uri": "https://localhost:8080/"
        },
        "id": "AY997dC_jb-b",
        "outputId": "e4cde4fb-8197-4b8e-e451-117a6f505359"
      },
      "execution_count": null,
      "outputs": [
        {
          "output_type": "stream",
          "name": "stdout",
          "text": [
            "Mounted at /content/gdrive\n"
          ]
        }
      ]
    },
    {
      "cell_type": "code",
      "execution_count": null,
      "metadata": {
        "id": "k2mHtPAoizpi",
        "outputId": "e0e01c61-0da2-4047-88fd-4d5c3c5a8e99"
      },
      "outputs": [
        {
          "data": {
            "text/html": [
              "<div>\n",
              "<style scoped>\n",
              "    .dataframe tbody tr th:only-of-type {\n",
              "        vertical-align: middle;\n",
              "    }\n",
              "\n",
              "    .dataframe tbody tr th {\n",
              "        vertical-align: top;\n",
              "    }\n",
              "\n",
              "    .dataframe thead th {\n",
              "        text-align: right;\n",
              "    }\n",
              "</style>\n",
              "<table border=\"1\" class=\"dataframe\">\n",
              "  <thead>\n",
              "    <tr style=\"text-align: right;\">\n",
              "      <th></th>\n",
              "      <th>Year</th>\n",
              "      <th>Murder rate in Alaska</th>\n",
              "      <th>Murder rate in Minnesota</th>\n",
              "    </tr>\n",
              "  </thead>\n",
              "  <tbody>\n",
              "    <tr>\n",
              "      <th>0</th>\n",
              "      <td>1960</td>\n",
              "      <td>10.2</td>\n",
              "      <td>1.2</td>\n",
              "    </tr>\n",
              "    <tr>\n",
              "      <th>1</th>\n",
              "      <td>1961</td>\n",
              "      <td>11.5</td>\n",
              "      <td>1.0</td>\n",
              "    </tr>\n",
              "    <tr>\n",
              "      <th>2</th>\n",
              "      <td>1962</td>\n",
              "      <td>4.5</td>\n",
              "      <td>0.9</td>\n",
              "    </tr>\n",
              "    <tr>\n",
              "      <th>3</th>\n",
              "      <td>1963</td>\n",
              "      <td>6.5</td>\n",
              "      <td>1.2</td>\n",
              "    </tr>\n",
              "    <tr>\n",
              "      <th>4</th>\n",
              "      <td>1964</td>\n",
              "      <td>10.4</td>\n",
              "      <td>1.4</td>\n",
              "    </tr>\n",
              "    <tr>\n",
              "      <th>5</th>\n",
              "      <td>1965</td>\n",
              "      <td>6.3</td>\n",
              "      <td>1.4</td>\n",
              "    </tr>\n",
              "    <tr>\n",
              "      <th>6</th>\n",
              "      <td>1966</td>\n",
              "      <td>12.9</td>\n",
              "      <td>2.2</td>\n",
              "    </tr>\n",
              "    <tr>\n",
              "      <th>7</th>\n",
              "      <td>1967</td>\n",
              "      <td>9.6</td>\n",
              "      <td>1.6</td>\n",
              "    </tr>\n",
              "    <tr>\n",
              "      <th>8</th>\n",
              "      <td>1968</td>\n",
              "      <td>10.5</td>\n",
              "      <td>2.2</td>\n",
              "    </tr>\n",
              "    <tr>\n",
              "      <th>9</th>\n",
              "      <td>1969</td>\n",
              "      <td>10.6</td>\n",
              "      <td>1.9</td>\n",
              "    </tr>\n",
              "    <tr>\n",
              "      <th>10</th>\n",
              "      <td>1970</td>\n",
              "      <td>12.2</td>\n",
              "      <td>2.0</td>\n",
              "    </tr>\n",
              "    <tr>\n",
              "      <th>11</th>\n",
              "      <td>1971</td>\n",
              "      <td>13.4</td>\n",
              "      <td>2.4</td>\n",
              "    </tr>\n",
              "    <tr>\n",
              "      <th>12</th>\n",
              "      <td>1972</td>\n",
              "      <td>9.5</td>\n",
              "      <td>2.4</td>\n",
              "    </tr>\n",
              "    <tr>\n",
              "      <th>13</th>\n",
              "      <td>1973</td>\n",
              "      <td>10.0</td>\n",
              "      <td>2.7</td>\n",
              "    </tr>\n",
              "    <tr>\n",
              "      <th>14</th>\n",
              "      <td>1974</td>\n",
              "      <td>13.6</td>\n",
              "      <td>3.0</td>\n",
              "    </tr>\n",
              "    <tr>\n",
              "      <th>15</th>\n",
              "      <td>1975</td>\n",
              "      <td>12.2</td>\n",
              "      <td>3.3</td>\n",
              "    </tr>\n",
              "    <tr>\n",
              "      <th>16</th>\n",
              "      <td>1976</td>\n",
              "      <td>11.3</td>\n",
              "      <td>2.3</td>\n",
              "    </tr>\n",
              "    <tr>\n",
              "      <th>17</th>\n",
              "      <td>1977</td>\n",
              "      <td>10.8</td>\n",
              "      <td>2.7</td>\n",
              "    </tr>\n",
              "    <tr>\n",
              "      <th>18</th>\n",
              "      <td>1978</td>\n",
              "      <td>12.9</td>\n",
              "      <td>2.0</td>\n",
              "    </tr>\n",
              "    <tr>\n",
              "      <th>19</th>\n",
              "      <td>1979</td>\n",
              "      <td>13.3</td>\n",
              "      <td>2.3</td>\n",
              "    </tr>\n",
              "    <tr>\n",
              "      <th>20</th>\n",
              "      <td>1980</td>\n",
              "      <td>8.9</td>\n",
              "      <td>2.6</td>\n",
              "    </tr>\n",
              "    <tr>\n",
              "      <th>21</th>\n",
              "      <td>1981</td>\n",
              "      <td>14.6</td>\n",
              "      <td>2.1</td>\n",
              "    </tr>\n",
              "    <tr>\n",
              "      <th>22</th>\n",
              "      <td>1982</td>\n",
              "      <td>18.5</td>\n",
              "      <td>2.3</td>\n",
              "    </tr>\n",
              "    <tr>\n",
              "      <th>23</th>\n",
              "      <td>1983</td>\n",
              "      <td>13.8</td>\n",
              "      <td>1.7</td>\n",
              "    </tr>\n",
              "    <tr>\n",
              "      <th>24</th>\n",
              "      <td>1984</td>\n",
              "      <td>11.6</td>\n",
              "      <td>1.8</td>\n",
              "    </tr>\n",
              "    <tr>\n",
              "      <th>25</th>\n",
              "      <td>1985</td>\n",
              "      <td>9.8</td>\n",
              "      <td>2.1</td>\n",
              "    </tr>\n",
              "    <tr>\n",
              "      <th>26</th>\n",
              "      <td>1986</td>\n",
              "      <td>8.6</td>\n",
              "      <td>2.5</td>\n",
              "    </tr>\n",
              "    <tr>\n",
              "      <th>27</th>\n",
              "      <td>1987</td>\n",
              "      <td>10.1</td>\n",
              "      <td>2.6</td>\n",
              "    </tr>\n",
              "    <tr>\n",
              "      <th>28</th>\n",
              "      <td>1988</td>\n",
              "      <td>5.7</td>\n",
              "      <td>2.9</td>\n",
              "    </tr>\n",
              "    <tr>\n",
              "      <th>29</th>\n",
              "      <td>1989</td>\n",
              "      <td>8.0</td>\n",
              "      <td>2.5</td>\n",
              "    </tr>\n",
              "    <tr>\n",
              "      <th>30</th>\n",
              "      <td>1990</td>\n",
              "      <td>7.5</td>\n",
              "      <td>2.7</td>\n",
              "    </tr>\n",
              "    <tr>\n",
              "      <th>31</th>\n",
              "      <td>1991</td>\n",
              "      <td>7.4</td>\n",
              "      <td>3.0</td>\n",
              "    </tr>\n",
              "    <tr>\n",
              "      <th>32</th>\n",
              "      <td>1992</td>\n",
              "      <td>7.5</td>\n",
              "      <td>3.3</td>\n",
              "    </tr>\n",
              "    <tr>\n",
              "      <th>33</th>\n",
              "      <td>1993</td>\n",
              "      <td>9.0</td>\n",
              "      <td>3.4</td>\n",
              "    </tr>\n",
              "    <tr>\n",
              "      <th>34</th>\n",
              "      <td>1994</td>\n",
              "      <td>6.3</td>\n",
              "      <td>3.2</td>\n",
              "    </tr>\n",
              "    <tr>\n",
              "      <th>35</th>\n",
              "      <td>1995</td>\n",
              "      <td>9.1</td>\n",
              "      <td>3.9</td>\n",
              "    </tr>\n",
              "    <tr>\n",
              "      <th>36</th>\n",
              "      <td>1996</td>\n",
              "      <td>7.4</td>\n",
              "      <td>3.6</td>\n",
              "    </tr>\n",
              "    <tr>\n",
              "      <th>37</th>\n",
              "      <td>1997</td>\n",
              "      <td>8.9</td>\n",
              "      <td>2.8</td>\n",
              "    </tr>\n",
              "    <tr>\n",
              "      <th>38</th>\n",
              "      <td>1998</td>\n",
              "      <td>6.7</td>\n",
              "      <td>2.6</td>\n",
              "    </tr>\n",
              "    <tr>\n",
              "      <th>39</th>\n",
              "      <td>1999</td>\n",
              "      <td>8.4</td>\n",
              "      <td>2.8</td>\n",
              "    </tr>\n",
              "    <tr>\n",
              "      <th>40</th>\n",
              "      <td>2000</td>\n",
              "      <td>4.3</td>\n",
              "      <td>3.1</td>\n",
              "    </tr>\n",
              "    <tr>\n",
              "      <th>41</th>\n",
              "      <td>2001</td>\n",
              "      <td>6.1</td>\n",
              "      <td>2.4</td>\n",
              "    </tr>\n",
              "    <tr>\n",
              "      <th>42</th>\n",
              "      <td>2002</td>\n",
              "      <td>5.1</td>\n",
              "      <td>2.2</td>\n",
              "    </tr>\n",
              "    <tr>\n",
              "      <th>43</th>\n",
              "      <td>2003</td>\n",
              "      <td>6.0</td>\n",
              "      <td>2.5</td>\n",
              "    </tr>\n",
              "  </tbody>\n",
              "</table>\n",
              "</div>"
            ],
            "text/plain": [
              "    Year  Murder rate in Alaska  Murder rate in Minnesota\n",
              "0   1960                   10.2                       1.2\n",
              "1   1961                   11.5                       1.0\n",
              "2   1962                    4.5                       0.9\n",
              "3   1963                    6.5                       1.2\n",
              "4   1964                   10.4                       1.4\n",
              "5   1965                    6.3                       1.4\n",
              "6   1966                   12.9                       2.2\n",
              "7   1967                    9.6                       1.6\n",
              "8   1968                   10.5                       2.2\n",
              "9   1969                   10.6                       1.9\n",
              "10  1970                   12.2                       2.0\n",
              "11  1971                   13.4                       2.4\n",
              "12  1972                    9.5                       2.4\n",
              "13  1973                   10.0                       2.7\n",
              "14  1974                   13.6                       3.0\n",
              "15  1975                   12.2                       3.3\n",
              "16  1976                   11.3                       2.3\n",
              "17  1977                   10.8                       2.7\n",
              "18  1978                   12.9                       2.0\n",
              "19  1979                   13.3                       2.3\n",
              "20  1980                    8.9                       2.6\n",
              "21  1981                   14.6                       2.1\n",
              "22  1982                   18.5                       2.3\n",
              "23  1983                   13.8                       1.7\n",
              "24  1984                   11.6                       1.8\n",
              "25  1985                    9.8                       2.1\n",
              "26  1986                    8.6                       2.5\n",
              "27  1987                   10.1                       2.6\n",
              "28  1988                    5.7                       2.9\n",
              "29  1989                    8.0                       2.5\n",
              "30  1990                    7.5                       2.7\n",
              "31  1991                    7.4                       3.0\n",
              "32  1992                    7.5                       3.3\n",
              "33  1993                    9.0                       3.4\n",
              "34  1994                    6.3                       3.2\n",
              "35  1995                    9.1                       3.9\n",
              "36  1996                    7.4                       3.6\n",
              "37  1997                    8.9                       2.8\n",
              "38  1998                    6.7                       2.6\n",
              "39  1999                    8.4                       2.8\n",
              "40  2000                    4.3                       3.1\n",
              "41  2001                    6.1                       2.4\n",
              "42  2002                    5.1                       2.2\n",
              "43  2003                    6.0                       2.5"
            ]
          },
          "execution_count": 53,
          "metadata": {},
          "output_type": "execute_result"
        }
      ],
      "source": [
        "import pandas as pd\n",
        "ani = pd.read_csv(\"/content/gdrive/My Drive/crime_rates.csv\")\n",
        "yni = ani[(ani['State'] == 'Alaska')][['Year', 'Murder Rate']]\n",
        "da = {}\n",
        "for ye in (list(set(list(data['Year'].values)))):\n",
        "    if ani[(ani['Year'] == ye) & (ani['State'] == 'Minnesota')].shape[0] > 0:\n",
        "        da[ye] = ani[(ani['Year'] == ye) & (ani['State'] == 'Minnesota')]['Murder Rate'].values[0]\n",
        "    else:\n",
        "        da[ye] = 0  \n",
        "len(da)\n",
        "yni['Murder rate in Minnesota'] = da.values()\n",
        "yni.columns = ['Year', 'Murder rate in Alaska', 'Murder rate in Minnesota']\n",
        "yni"
      ]
    }
  ],
  "metadata": {
    "kernelspec": {
      "display_name": "Python 3 (ipykernel)",
      "language": "python",
      "name": "python3"
    },
    "language_info": {
      "codemirror_mode": {
        "name": "ipython",
        "version": 3
      },
      "file_extension": ".py",
      "mimetype": "text/x-python",
      "name": "python",
      "nbconvert_exporter": "python",
      "pygments_lexer": "ipython3",
      "version": "3.9.7"
    },
    "colab": {
      "name": "lab_assignment_09 .ipynb",
      "provenance": [],
      "collapsed_sections": [],
      "include_colab_link": true
    }
  },
  "nbformat": 4,
  "nbformat_minor": 0
}