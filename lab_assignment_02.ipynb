{
  "cells": [
    {
      "cell_type": "markdown",
      "metadata": {
        "id": "view-in-github",
        "colab_type": "text"
      },
      "source": [
        "<a href=\"https://colab.research.google.com/github/roshanakhi/Roshan_Chowdary_INFO5502_SPRING2022/blob/main/lab_assignment_02.ipynb\" target=\"_parent\"><img src=\"https://colab.research.google.com/assets/colab-badge.svg\" alt=\"Open In Colab\"/></a>"
      ]
    },
    {
      "cell_type": "markdown",
      "metadata": {
        "id": "Ryk8D1Q4Wsrp"
      },
      "source": [
        "# **The second Lab-assignment (02/04/2022, 50 points in total)**"
      ]
    },
    {
      "cell_type": "markdown",
      "metadata": {
        "id": "90_NR8c5XGWc"
      },
      "source": [
        "# Question 1\n",
        "\n",
        "(5 points). Write a Python program to generate 12 random numbers between 1 and 100. Sort the list of numbers in ascending order and print it out. Sort the list of numbers in descending order and print it out. Calculate the average for the group and print it out."
      ]
    },
    {
      "cell_type": "code",
      "execution_count": null,
      "metadata": {
        "colab": {
          "base_uri": "https://localhost:8080/"
        },
        "id": "5QX6bJjGWXY9",
        "outputId": "ab7d07e6-8ef7-460f-d54b-f070a1421563"
      },
      "outputs": [
        {
          "output_type": "stream",
          "name": "stdout",
          "text": [
            "[3, 8, 12, 18, 22, 34, 45, 64, 85, 94]\n",
            "[94, 85, 64, 45, 34, 22, 18, 12, 8, 3]\n",
            "38.5\n"
          ]
        }
      ],
      "source": [
        "# Your code here\n",
        "import random\n",
        "l=[]\n",
        "for x in range(10):\n",
        "  l.append(random.randint(1,100))\n",
        "l.sort()\n",
        "print(l)\n",
        "l1=l\n",
        "a=l1[::-1]\n",
        "print(a)\n",
        "c=sum(a)/len(a)\n",
        "print(c)\n",
        "\n"
      ]
    },
    {
      "cell_type": "markdown",
      "metadata": {
        "id": "1F_PZdH9Sh49"
      },
      "source": [
        "# Question 2\n",
        "(20 points). Write a program that will do the following string formatting tasks:\n",
        "\n",
        "(1) Ask the user to enter two sentences.\n",
        "\n",
        "(2) Make each sentence into a list. Each element in the list should correspond to a word in the sentence. For example, if the sentence is \"Alas! Am I alive? This is my first python program\", the program should print out ['Alas, '!', 'Am', 'I', 'alive, '?', 'This', 'is', 'my', 'first', 'python', 'program'].\n",
        "\n",
        "(3) Compare the two sentences. Print out a list of words that occur in both sentences.\n",
        "\n",
        "(4) Remove any punctuation from the sentence and print it back out. It should remove at least the following characters, but it can remove more: period(“.”), comma (“,”), semicolon (“;”), and colon (“:”)\n",
        "\n",
        "(5) Count the number of vowels in the sentences. Print out each vowel and the number of times it appears in the sentences, such as: a:2, e:1, i:0, etc"
      ]
    },
    {
      "cell_type": "code",
      "execution_count": 11,
      "metadata": {
        "id": "Y0oOSlsOS0cq",
        "colab": {
          "base_uri": "https://localhost:8080/"
        },
        "outputId": "d7ba4d27-5244-4345-9425-4288e0d71a70"
      },
      "outputs": [
        {
          "output_type": "stream",
          "name": "stdout",
          "text": [
            "Alis is the god\n",
            "max is the hell\n",
            "['Alis', 'is', 'the', 'god']\n",
            "['max', 'is', 'the', 'hell']\n",
            "\n",
            " Common\n",
            "is\n",
            "the\n",
            "\n",
            " not with punctuation\n",
            "is\n",
            "the\n",
            "\n",
            " vowel: {'a': 1, 'e': 1, 'i': 2, 'o': 1, 'u': 0}\n"
          ]
        }
      ],
      "source": [
        "import string\n",
        "import re\n",
        "from string import punctuation\n",
        "a1=input(\"\")\n",
        "a2=input(\"\")\n",
        "\n",
        "b1=re.findall(r\"[\\w']+|[.,!?;:]\",a1)\n",
        "b2=re.findall(r\"[\\w']+|[.,!?;:]\",a2)\n",
        "\n",
        "print(b1)\n",
        "print(b2)\n",
        "\n",
        "print(\"\\n Common\")\n",
        "for word in b1:\n",
        "  for other in b2:\n",
        "    if word.lower() == other.lower():\n",
        "      print(word)\n",
        "\n",
        "print(\"\\n not with punctuation\")\n",
        "for word in b1:\n",
        "  for other in b2:\n",
        "    if word.lower() == other.lower() and word not in string.punctuation:\n",
        "      print(word)\n",
        "\n",
        "vowels={'a':0,'e':0,'i':0,'o':0,'u':0}\n",
        "for letter in a1:\n",
        "  if letter.lower() in vowels:\n",
        "    vowels[letter.lower()]+=1\n",
        "\n",
        "print(\"\\n vowel:\",vowels)                "
      ]
    },
    {
      "cell_type": "markdown",
      "metadata": {
        "id": "CmFoI4jDS9nx"
      },
      "source": [
        "# Question 3 \n",
        "\n",
        "(5 points). The formula that describes the volume V of a sphere with radius r is the following:\n",
        "\n",
        "$ V=\\frac{4}{3}\\ast\\ \\pi\\ast\\ r^3 $\n",
        "\n",
        "Write a program to calculate the value of V when r is in the range of 1–10. Output the result in the following format:\n",
        "\n",
        "\tr\tV\n",
        "\t1\t…\n",
        "\t2\t…\n",
        "\t3\t…\n"
      ]
    },
    {
      "cell_type": "code",
      "execution_count": null,
      "metadata": {
        "colab": {
          "base_uri": "https://localhost:8080/"
        },
        "id": "pEyqeioAT95b",
        "outputId": "af76e84c-0840-43b4-8946-3ca01cfdb803"
      },
      "outputs": [
        {
          "name": "stdout",
          "output_type": "stream",
          "text": [
            "1 4.1887902047863905\n",
            "2 33.510321638291124\n",
            "3 113.09733552923255\n",
            "4 268.082573106329\n",
            "5 523.5987755982989\n",
            "6 904.7786842338604\n",
            "7 1436.755040241732\n",
            "8 2144.660584850632\n",
            "9 3053.628059289279\n",
            "10 4188.790204786391\n"
          ]
        }
      ],
      "source": [
        "pi=3.141592653589793\n",
        "for i in range(1,11):\n",
        "   V=(4/3)*pi*i*i*i\n",
        "   print(i,V)"
      ]
    },
    {
      "cell_type": "markdown",
      "metadata": {
        "id": "z3tBE7E-Xn5X"
      },
      "source": [
        "# Question 4\n",
        "\n",
        "(20 points). In the field of Data Science, data is often formatted as a comma-delimited (CSV) file, where each line in a file corresponds to a field's value. Refer to Chapter 9 (p. 106) for more information on comma-delimited files. To answer this question, you will need to download the file [lab_assignment_02_denton_housing.csv](https://raw.githubusercontent.com/unt-iialab/info5502-spring2022/main/datasets/lab_assignment_02_denton_housing.csv) included with this assignment. The file [lab_assignment_02_denton_housing.csv](https://raw.githubusercontent.com/unt-iialab/info5502-spring2022/main/datasets/lab_assignment_02_denton_housing.csv) contains statistics about housing in the city of Denton from 2008 to 2014. Write a program to implement the following questions.\n",
        "\n",
        "(1) (10 pts) Calculate the difference in the number of Occupied Housing Units from year to year and print it. The difference must be calculated for the consecutive years such as 2008-2009, 2009-2010 etc. Finally, print the values in the ascending order.\n",
        "\n",
        "(2) (10 pts) For all the years, calculate the percentage of housing units which are vacant an occupied. Print the results in the following format:\n",
        "\n",
        "Year Vacant Housing Units Occupied Housing Units\n",
        "\n",
        "    2008  30%   70%                          \n",
        "\t2009 ----- -----\n",
        "\t2010 ----- -----\n",
        "    2011 ----- -----\n",
        "\t2012 ----- -----\n",
        "    2013 ----- -----\n",
        "\t2014 ----- -----\n",
        "  \n",
        "  \n",
        "\n",
        "(3) (10 pts) Calculate and print the valued and years in which the highest number of housing units were vacant and occupied. Print the results in the following format:  \n",
        "\n",
        "                              Year\tValue\n",
        "\tVacant Housing Units\t  -----   -----\n",
        "\tOccupied Housing Units\t-----   -----\n",
        "\n",
        "(4) (10 pts) Calculate the harmonic mean of the total housing units and print it out. You can find the information about harmonic mean here: https://ncalculators.com/statistics/harmonic-mean-calculator.htm"
      ]
    },
    {
      "cell_type": "code",
      "execution_count": null,
      "metadata": {
        "id": "lqGYuHBhcsRH",
        "colab": {
          "base_uri": "https://localhost:8080/"
        },
        "outputId": "17c02c02-f4c2-4d04-fc8b-34636b8d8e07"
      },
      "outputs": [
        {
          "output_type": "stream",
          "name": "stdout",
          "text": [
            "2011-2010  303.0\n",
            "2009-2008  795.0\n",
            "2012-2011  1404.0\n",
            "2013-2012  1565.0\n",
            "2014-2013  2622.0\n",
            "2010-2009  5091.0\n"
          ]
        },
        {
          "output_type": "stream",
          "name": "stderr",
          "text": [
            "/usr/local/lib/python3.7/dist-packages/pandas/util/_decorators.py:311: SettingWithCopyWarning: \n",
            "A value is trying to be set on a copy of a slice from a DataFrame\n",
            "\n",
            "See the caveats in the documentation: https://pandas.pydata.org/pandas-docs/stable/user_guide/indexing.html#returning-a-view-versus-a-copy\n",
            "  return func(*args, **kwargs)\n",
            "/usr/local/lib/python3.7/dist-packages/ipykernel_launcher.py:9: SettingWithCopyWarning: \n",
            "A value is trying to be set on a copy of a slice from a DataFrame.\n",
            "Try using .loc[row_indexer,col_indexer] = value instead\n",
            "\n",
            "See the caveats in the documentation: https://pandas.pydata.org/pandas-docs/stable/user_guide/indexing.html#returning-a-view-versus-a-copy\n",
            "  if __name__ == '__main__':\n"
          ]
        }
      ],
      "source": [
        "#1 st Question\n",
        "import pandas as pd\n",
        "import numpy as np\n",
        "\n",
        "a=pd.read_csv(\"https://raw.githubusercontent.com/unt-iialab/info5502-spring2022/main/datasets/lab_assignment_02_denton_housing.csv\")\n",
        "\n",
        "a1=a[a[\"title_field\"]=='Occupied Housing Units']\n",
        "a1.sort_values(by=['year'],ascending=True,inplace=True)\n",
        "a1[\"value_DIFF\"]=abs(a1[\"value\"].diff())\n",
        "a1=a1.dropna()\n",
        "a1=a1.reset_index(drop=True)\n",
        "a1.sort_values(by='value_DIFF',ascending=True,inplace=True)\n",
        "for ma in a1.index:\n",
        "  print(str(a1['year'][ma])+'-'+str(a1['year'][ma]-1),'',a1['value_DIFF'][ma])\n",
        "\n",
        "\n"
      ]
    },
    {
      "cell_type": "code",
      "source": [
        "#2 nd Question\n",
        "import math\n",
        "V1=0.0\n",
        "T=0.0\n",
        "a=a.reset_index(drop=True)\n",
        "for year in range(2008,2015):\n",
        "    V1=a[(a['year'] == year) & (a['title_field'] == 'Vacant Housing Units')]['value'].values[0]\n",
        "    V2=a[(a['year'] == year) & (a['title_field'] == 'Occupied Housing Units')]['value'].values[0]\n",
        "    T=a[(a['year'] == year) & (a['title_field'] == 'Total Housing Units')]['value'].values[0] \n",
        "    Vac_Percentage=round((V1/T)*100)\n",
        "    Occ_Percentage=round((V2/T)*100)\n",
        "    print(year,str(Vac_Percentage)+'%','',str(Occ_Percentage)+'%')"
      ],
      "metadata": {
        "colab": {
          "base_uri": "https://localhost:8080/"
        },
        "id": "ZGjoGMw6u2tr",
        "outputId": "db52ddca-a202-47f9-8f3d-5ef66e57ead6"
      },
      "execution_count": null,
      "outputs": [
        {
          "output_type": "stream",
          "name": "stdout",
          "text": [
            "2008 11%  89%\n",
            "2009 9%  91%\n",
            "2010 8%  92%\n",
            "2011 9%  91%\n",
            "2012 7%  93%\n",
            "2013 9%  91%\n",
            "2014 6%  94%\n"
          ]
        }
      ]
    },
    {
      "cell_type": "code",
      "source": [
        "#3 rd Question\n",
        "print(' ','Year','Value')\n",
        "for i in ('Vacant Housing Units','Occupied Housing Units'):\n",
        "    v3=a[(a['title_field'] == i)]['value'].max()\n",
        "    v4=a[(a['title_field'] == i)]['year'].max()\n",
        "    print(i,v4,v3)"
      ],
      "metadata": {
        "colab": {
          "base_uri": "https://localhost:8080/"
        },
        "id": "EPW9aXx8_rzs",
        "outputId": "dac2882d-7883-4949-adcf-a5db062db6b0"
      },
      "execution_count": null,
      "outputs": [
        {
          "output_type": "stream",
          "name": "stdout",
          "text": [
            "  Year Value\n",
            "Vacant Housing Units 2014 4483\n",
            "Occupied Housing Units 2014 46295\n"
          ]
        }
      ]
    },
    {
      "cell_type": "code",
      "source": [
        "#4 th Question\n",
        "import statistics\n",
        "print(statistics.harmonic_mean(a[(a['title_field'] == 'Total Housing Units')]['value']))"
      ],
      "metadata": {
        "colab": {
          "base_uri": "https://localhost:8080/"
        },
        "id": "Vy0jyfYIAPUb",
        "outputId": "f3717832-c95f-48ca-e3e0-26bab0c7167c"
      },
      "execution_count": null,
      "outputs": [
        {
          "output_type": "stream",
          "name": "stdout",
          "text": [
            "44398.28543969185\n"
          ]
        }
      ]
    }
  ],
  "metadata": {
    "colab": {
      "collapsed_sections": [],
      "name": "lab_assignment_02.ipynb",
      "provenance": [],
      "include_colab_link": true
    },
    "kernelspec": {
      "display_name": "Python 3",
      "language": "python",
      "name": "python3"
    },
    "language_info": {
      "codemirror_mode": {
        "name": "ipython",
        "version": 3
      },
      "file_extension": ".py",
      "mimetype": "text/x-python",
      "name": "python",
      "nbconvert_exporter": "python",
      "pygments_lexer": "ipython3",
      "version": "3.8.5"
    }
  },
  "nbformat": 4,
  "nbformat_minor": 0
}