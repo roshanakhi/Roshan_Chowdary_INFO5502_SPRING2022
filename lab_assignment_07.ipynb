{
  "cells": [
    {
      "cell_type": "markdown",
      "metadata": {
        "id": "view-in-github",
        "colab_type": "text"
      },
      "source": [
        "<a href=\"https://colab.research.google.com/github/roshanakhi/Roshan_Chowdary_INFO5502_SPRING2022/blob/main/lab_assignment_07.ipynb\" target=\"_parent\"><img src=\"https://colab.research.google.com/assets/colab-badge.svg\" alt=\"Open In Colab\"/></a>"
      ]
    },
    {
      "cell_type": "markdown",
      "metadata": {
        "id": "ex2bx8wglTkS"
      },
      "source": [
        "## The seventh Lab-assignment (03/31/2022, 50 points in total)"
      ]
    },
    {
      "cell_type": "markdown",
      "metadata": {
        "id": "nHAEgWenlTkT"
      },
      "source": [
        "The purpose of this exercise is to build several regression models based on real-world datasets. "
      ]
    },
    {
      "cell_type": "markdown",
      "metadata": {
        "id": "8M8lRVU7lTkT"
      },
      "source": [
        "### Question 1 (25 points) Build a regession model to predict the change in price of the stock overtime. It can either be linear regression or non-linear regression. You can download the dataset from here: https://github.com/unt-iialab/info5502-spring2022/blob/main/datasets/portfolio_data.csv. The implementation of the LSTM on this same dataset was posted here as an reference: https://www.kaggle.com/code/faressayah/stock-market-analysis-prediction-using-lstm/notebook"
      ]
    },
    {
      "cell_type": "code",
      "execution_count": 2,
      "metadata": {
        "colab": {
          "base_uri": "https://localhost:8080/",
          "height": 300
        },
        "id": "Gv4YYv5xlTkU",
        "outputId": "a2a93a7b-f92b-4a0b-cdfe-a8fd52f20a39"
      },
      "outputs": [
        {
          "output_type": "stream",
          "name": "stdout",
          "text": [
            "RMSE score is 75.9549436001661\n",
            "R2 Score is 0.9783453724222465\n"
          ]
        },
        {
          "output_type": "display_data",
          "data": {
            "text/plain": [
              "<Figure size 432x288 with 1 Axes>"
            ],
            "image/png": "[encoded data removed]"
          },
          "metadata": {
            "needs_background": "light"
          }
        }
      ],
      "source": [
        "### You code here\n",
        "import pandas as pd\n",
        "import numpy as np\n",
        "from sklearn.model_selection import train_test_split\n",
        "from sklearn.linear_model import LinearRegression\n",
        "from sklearn.metrics import mean_squared_error, r2_score\n",
        "import numpy as np\n",
        "import matplotlib.pyplot as plt\n",
        "\n",
        "azr=pd.read_csv('https://raw.githubusercontent.com/unt-iialab/info5502-spring2022/main/datasets/portfolio_data.csv')\n",
        "\n",
        "xyz = azr.drop(['Date', 'AMZN'], axis = 1)\n",
        "yz = azr['AMZN']\n",
        "plt.plot(xyz)\n",
        "xyztrain,xyztest,yztrain,yztest = train_test_split(xyz, yz, test_size = 0.35, random_state = 0)\n",
        "\n",
        "lm = LinearRegression()\n",
        "lm.fit(xyztrain, yztrain)\n",
        "\n",
        "yzpred = lm.predict(xyztest)\n",
        "print(\"RMSE score is\",np.sqrt(mean_squared_error(yztest, yzpred)))\n",
        "print(\"R2 Score is\", r2_score(yztest, yzpred))\n",
        "\n",
        "\n",
        "\n",
        "\n",
        "\n",
        "\n",
        "\n"
      ]
    },
    {
      "cell_type": "code",
      "source": [
        "pip install tensorflow"
      ],
      "metadata": {
        "colab": {
          "base_uri": "https://localhost:8080/"
        },
        "id": "p32jFyowxpJa",
        "outputId": "be9fe149-78a0-4ab2-8d7a-8e890769f699"
      },
      "execution_count": 3,
      "outputs": [
        {
          "output_type": "stream",
          "name": "stdout",
          "text": [
            "Requirement already satisfied: tensorflow in /usr/local/lib/python3.7/dist-packages (2.8.0)\n",
            "Requirement already satisfied: six>=1.12.0 in /usr/local/lib/python3.7/dist-packages (from tensorflow) (1.15.0)\n",
            "Requirement already satisfied: gast>=0.2.1 in /usr/local/lib/python3.7/dist-packages (from tensorflow) (0.5.3)\n",
            "Requirement already satisfied: numpy>=1.20 in /usr/local/lib/python3.7/dist-packages (from tensorflow) (1.21.5)\n",
            "Requirement already satisfied: typing-extensions>=3.6.6 in /usr/local/lib/python3.7/dist-packages (from tensorflow) (4.1.1)\n",
            "Requirement already satisfied: absl-py>=0.4.0 in /usr/local/lib/python3.7/dist-packages (from tensorflow) (1.0.0)\n",
            "Requirement already satisfied: tensorflow-io-gcs-filesystem>=0.23.1 in /usr/local/lib/python3.7/dist-packages (from tensorflow) (0.24.0)\n",
            "Collecting tf-estimator-nightly==2.8.0.dev2021122109\n",
            "  Downloading tf_estimator_nightly-2.8.0.dev2021122109-py2.py3-none-any.whl (462 kB)\n",
            "\u001b[K     |████████████████████████████████| 462 kB 8.1 MB/s \n",
            "\u001b[?25hRequirement already satisfied: grpcio<2.0,>=1.24.3 in /usr/local/lib/python3.7/dist-packages (from tensorflow) (1.44.0)\n",
            "Requirement already satisfied: protobuf>=3.9.2 in /usr/local/lib/python3.7/dist-packages (from tensorflow) (3.17.3)\n",
            "Requirement already satisfied: termcolor>=1.1.0 in /usr/local/lib/python3.7/dist-packages (from tensorflow) (1.1.0)\n",
            "Requirement already satisfied: wrapt>=1.11.0 in /usr/local/lib/python3.7/dist-packages (from tensorflow) (1.14.0)\n",
            "Requirement already satisfied: tensorboard<2.9,>=2.8 in /usr/local/lib/python3.7/dist-packages (from tensorflow) (2.8.0)\n",
            "Requirement already satisfied: opt-einsum>=2.3.2 in /usr/local/lib/python3.7/dist-packages (from tensorflow) (3.3.0)\n",
            "Requirement already satisfied: google-pasta>=0.1.1 in /usr/local/lib/python3.7/dist-packages (from tensorflow) (0.2.0)\n",
            "Requirement already satisfied: flatbuffers>=1.12 in /usr/local/lib/python3.7/dist-packages (from tensorflow) (2.0)\n",
            "Requirement already satisfied: astunparse>=1.6.0 in /usr/local/lib/python3.7/dist-packages (from tensorflow) (1.6.3)\n",
            "Requirement already satisfied: keras-preprocessing>=1.1.1 in /usr/local/lib/python3.7/dist-packages (from tensorflow) (1.1.2)\n",
            "Requirement already satisfied: keras<2.9,>=2.8.0rc0 in /usr/local/lib/python3.7/dist-packages (from tensorflow) (2.8.0)\n",
            "Requirement already satisfied: h5py>=2.9.0 in /usr/local/lib/python3.7/dist-packages (from tensorflow) (3.1.0)\n",
            "Requirement already satisfied: setuptools in /usr/local/lib/python3.7/dist-packages (from tensorflow) (57.4.0)\n",
            "Requirement already satisfied: libclang>=9.0.1 in /usr/local/lib/python3.7/dist-packages (from tensorflow) (13.0.0)\n",
            "Requirement already satisfied: wheel<1.0,>=0.23.0 in /usr/local/lib/python3.7/dist-packages (from astunparse>=1.6.0->tensorflow) (0.37.1)\n",
            "Requirement already satisfied: cached-property in /usr/local/lib/python3.7/dist-packages (from h5py>=2.9.0->tensorflow) (1.5.2)\n",
            "Requirement already satisfied: google-auth<3,>=1.6.3 in /usr/local/lib/python3.7/dist-packages (from tensorboard<2.9,>=2.8->tensorflow) (1.35.0)\n",
            "Requirement already satisfied: tensorboard-data-server<0.7.0,>=0.6.0 in /usr/local/lib/python3.7/dist-packages (from tensorboard<2.9,>=2.8->tensorflow) (0.6.1)\n",
            "Requirement already satisfied: tensorboard-plugin-wit>=1.6.0 in /usr/local/lib/python3.7/dist-packages (from tensorboard<2.9,>=2.8->tensorflow) (1.8.1)\n",
            "Requirement already satisfied: requests<3,>=2.21.0 in /usr/local/lib/python3.7/dist-packages (from tensorboard<2.9,>=2.8->tensorflow) (2.23.0)\n",
            "Requirement already satisfied: markdown>=2.6.8 in /usr/local/lib/python3.7/dist-packages (from tensorboard<2.9,>=2.8->tensorflow) (3.3.6)\n",
            "Requirement already satisfied: werkzeug>=0.11.15 in /usr/local/lib/python3.7/dist-packages (from tensorboard<2.9,>=2.8->tensorflow) (1.0.1)\n",
            "Requirement already satisfied: google-auth-oauthlib<0.5,>=0.4.1 in /usr/local/lib/python3.7/dist-packages (from tensorboard<2.9,>=2.8->tensorflow) (0.4.6)\n",
            "Requirement already satisfied: cachetools<5.0,>=2.0.0 in /usr/local/lib/python3.7/dist-packages (from google-auth<3,>=1.6.3->tensorboard<2.9,>=2.8->tensorflow) (4.2.4)\n",
            "Requirement already satisfied: rsa<5,>=3.1.4 in /usr/local/lib/python3.7/dist-packages (from google-auth<3,>=1.6.3->tensorboard<2.9,>=2.8->tensorflow) (4.8)\n",
            "Requirement already satisfied: pyasn1-modules>=0.2.1 in /usr/local/lib/python3.7/dist-packages (from google-auth<3,>=1.6.3->tensorboard<2.9,>=2.8->tensorflow) (0.2.8)\n",
            "Requirement already satisfied: requests-oauthlib>=0.7.0 in /usr/local/lib/python3.7/dist-packages (from google-auth-oauthlib<0.5,>=0.4.1->tensorboard<2.9,>=2.8->tensorflow) (1.3.1)\n",
            "Requirement already satisfied: importlib-metadata>=4.4 in /usr/local/lib/python3.7/dist-packages (from markdown>=2.6.8->tensorboard<2.9,>=2.8->tensorflow) (4.11.3)\n",
            "Requirement already satisfied: zipp>=0.5 in /usr/local/lib/python3.7/dist-packages (from importlib-metadata>=4.4->markdown>=2.6.8->tensorboard<2.9,>=2.8->tensorflow) (3.8.0)\n",
            "Requirement already satisfied: pyasn1<0.5.0,>=0.4.6 in /usr/local/lib/python3.7/dist-packages (from pyasn1-modules>=0.2.1->google-auth<3,>=1.6.3->tensorboard<2.9,>=2.8->tensorflow) (0.4.8)\n",
            "Requirement already satisfied: idna<3,>=2.5 in /usr/local/lib/python3.7/dist-packages (from requests<3,>=2.21.0->tensorboard<2.9,>=2.8->tensorflow) (2.10)\n",
            "Requirement already satisfied: urllib3!=1.25.0,!=1.25.1,<1.26,>=1.21.1 in /usr/local/lib/python3.7/dist-packages (from requests<3,>=2.21.0->tensorboard<2.9,>=2.8->tensorflow) (1.24.3)\n",
            "Requirement already satisfied: certifi>=2017.4.17 in /usr/local/lib/python3.7/dist-packages (from requests<3,>=2.21.0->tensorboard<2.9,>=2.8->tensorflow) (2021.10.8)\n",
            "Requirement already satisfied: chardet<4,>=3.0.2 in /usr/local/lib/python3.7/dist-packages (from requests<3,>=2.21.0->tensorboard<2.9,>=2.8->tensorflow) (3.0.4)\n",
            "Requirement already satisfied: oauthlib>=3.0.0 in /usr/local/lib/python3.7/dist-packages (from requests-oauthlib>=0.7.0->google-auth-oauthlib<0.5,>=0.4.1->tensorboard<2.9,>=2.8->tensorflow) (3.2.0)\n",
            "Installing collected packages: tf-estimator-nightly\n",
            "Successfully installed tf-estimator-nightly-2.8.0.dev2021122109\n"
          ]
        }
      ]
    },
    {
      "cell_type": "code",
      "source": [
        "pip install keras"
      ],
      "metadata": {
        "colab": {
          "base_uri": "https://localhost:8080/"
        },
        "id": "DzS46dSfxsCe",
        "outputId": "e7d06423-84c9-41e1-a602-ba0add5eea18"
      },
      "execution_count": 4,
      "outputs": [
        {
          "output_type": "stream",
          "name": "stdout",
          "text": [
            "Requirement already satisfied: keras in /usr/local/lib/python3.7/dist-packages (2.8.0)\n"
          ]
        }
      ]
    },
    {
      "cell_type": "code",
      "source": [
        "from keras.models import Sequential\n",
        "from keras.layers import Dense, LSTM\n",
        "mo = Sequential()\n",
        "mo.add(LSTM(50, return_sequences=True, input_shape= (xyztrain.shape[1], 1)))\n",
        "mo.add(LSTM(50, return_sequences=False))\n",
        "mo.add(Dense(50))\n",
        "mo.add(Dense(1))\n",
        "mo.compile(optimizer='adam', loss='mean_squared_error')\n",
        "mo.fit(xyztrain, yztrain, batch_size=1, epochs=100)"
      ],
      "metadata": {
        "colab": {
          "base_uri": "https://localhost:8080/"
        },
        "id": "RxqA8j1GxzZS",
        "outputId": "180365ec-bf6f-463f-db30-13861f691eef"
      },
      "execution_count": 6,
      "outputs": [
        {
          "output_type": "stream",
          "name": "stdout",
          "text": [
            "Epoch 1/100\n",
            "988/988 [==============================] - 11s 5ms/step - loss: 326919.0938\n",
            "Epoch 2/100\n",
            "988/988 [==============================] - 4s 4ms/step - loss: 18903.5820\n",
            "Epoch 3/100\n",
            "988/988 [==============================] - 4s 5ms/step - loss: 8305.9189\n",
            "Epoch 4/100\n",
            "988/988 [==============================] - 4s 4ms/step - loss: 7337.6904\n",
            "Epoch 5/100\n",
            "988/988 [==============================] - 4s 4ms/step - loss: 7879.4722\n",
            "Epoch 6/100\n",
            "988/988 [==============================] - 4s 4ms/step - loss: 7336.3130\n",
            "Epoch 7/100\n",
            "988/988 [==============================] - 4s 4ms/step - loss: 7499.0190\n",
            "Epoch 8/100\n",
            "988/988 [==============================] - 4s 4ms/step - loss: 7343.0654\n",
            "Epoch 9/100\n",
            "988/988 [==============================] - 4s 4ms/step - loss: 6687.6709\n",
            "Epoch 10/100\n",
            "988/988 [==============================] - 6s 6ms/step - loss: 7166.6909\n",
            "Epoch 11/100\n",
            "988/988 [==============================] - 4s 4ms/step - loss: 7515.8140\n",
            "Epoch 12/100\n",
            "988/988 [==============================] - 4s 4ms/step - loss: 7088.9341\n",
            "Epoch 13/100\n",
            "988/988 [==============================] - 4s 5ms/step - loss: 7222.7007\n",
            "Epoch 14/100\n",
            "988/988 [==============================] - 4s 5ms/step - loss: 8009.5723\n",
            "Epoch 15/100\n",
            "988/988 [==============================] - 5s 5ms/step - loss: 8338.5547\n",
            "Epoch 16/100\n",
            "988/988 [==============================] - 4s 4ms/step - loss: 7800.5063\n",
            "Epoch 17/100\n",
            "988/988 [==============================] - 4s 4ms/step - loss: 7792.1948\n",
            "Epoch 18/100\n",
            "988/988 [==============================] - 4s 4ms/step - loss: 7165.0151\n",
            "Epoch 19/100\n",
            "988/988 [==============================] - 4s 4ms/step - loss: 6794.6650\n",
            "Epoch 20/100\n",
            "988/988 [==============================] - 4s 4ms/step - loss: 6800.6392\n",
            "Epoch 21/100\n",
            "988/988 [==============================] - 4s 4ms/step - loss: 6930.1416\n",
            "Epoch 22/100\n",
            "988/988 [==============================] - 4s 4ms/step - loss: 6032.1035\n",
            "Epoch 23/100\n",
            "988/988 [==============================] - 4s 4ms/step - loss: 6175.2358\n",
            "Epoch 24/100\n",
            "988/988 [==============================] - 5s 5ms/step - loss: 6819.5278\n",
            "Epoch 25/100\n",
            "988/988 [==============================] - 4s 4ms/step - loss: 7508.3345\n",
            "Epoch 26/100\n",
            "988/988 [==============================] - 4s 4ms/step - loss: 6925.0796\n",
            "Epoch 27/100\n",
            "988/988 [==============================] - 4s 4ms/step - loss: 6801.0630\n",
            "Epoch 28/100\n",
            "988/988 [==============================] - 4s 4ms/step - loss: 6896.1743\n",
            "Epoch 29/100\n",
            "988/988 [==============================] - 4s 4ms/step - loss: 6744.0483\n",
            "Epoch 30/100\n",
            "988/988 [==============================] - 4s 4ms/step - loss: 6281.7441\n",
            "Epoch 31/100\n",
            "988/988 [==============================] - 4s 4ms/step - loss: 7054.7871\n",
            "Epoch 32/100\n",
            "988/988 [==============================] - 4s 4ms/step - loss: 6514.9297\n",
            "Epoch 33/100\n",
            "988/988 [==============================] - 4s 4ms/step - loss: 6395.8228\n",
            "Epoch 34/100\n",
            "988/988 [==============================] - 4s 4ms/step - loss: 5770.9219\n",
            "Epoch 35/100\n",
            "988/988 [==============================] - 4s 4ms/step - loss: 6463.9067\n",
            "Epoch 36/100\n",
            "988/988 [==============================] - 4s 4ms/step - loss: 6602.5317\n",
            "Epoch 37/100\n",
            "988/988 [==============================] - 4s 4ms/step - loss: 6397.9536\n",
            "Epoch 38/100\n",
            "988/988 [==============================] - 4s 4ms/step - loss: 6440.9126\n",
            "Epoch 39/100\n",
            "988/988 [==============================] - 4s 4ms/step - loss: 6427.3809\n",
            "Epoch 40/100\n",
            "988/988 [==============================] - 4s 4ms/step - loss: 6601.2666\n",
            "Epoch 41/100\n",
            "988/988 [==============================] - 4s 4ms/step - loss: 6869.1050\n",
            "Epoch 42/100\n",
            "988/988 [==============================] - 4s 4ms/step - loss: 6178.9922\n",
            "Epoch 43/100\n",
            "988/988 [==============================] - 4s 4ms/step - loss: 5761.5815\n",
            "Epoch 44/100\n",
            "988/988 [==============================] - 4s 4ms/step - loss: 6225.8662\n",
            "Epoch 45/100\n",
            "988/988 [==============================] - 4s 4ms/step - loss: 6269.9956\n",
            "Epoch 46/100\n",
            "988/988 [==============================] - 4s 4ms/step - loss: 5608.3516\n",
            "Epoch 47/100\n",
            "988/988 [==============================] - 4s 4ms/step - loss: 6379.7754\n",
            "Epoch 48/100\n",
            "988/988 [==============================] - 4s 4ms/step - loss: 5564.1606\n",
            "Epoch 49/100\n",
            "988/988 [==============================] - 5s 5ms/step - loss: 6724.6992\n",
            "Epoch 50/100\n",
            "988/988 [==============================] - 4s 5ms/step - loss: 5874.4878\n",
            "Epoch 51/100\n",
            "988/988 [==============================] - 4s 4ms/step - loss: 6644.7661\n",
            "Epoch 52/100\n",
            "988/988 [==============================] - 5s 5ms/step - loss: 6501.4849\n",
            "Epoch 53/100\n",
            "988/988 [==============================] - 4s 5ms/step - loss: 5665.0073\n",
            "Epoch 54/100\n",
            "988/988 [==============================] - 4s 5ms/step - loss: 6158.0293\n",
            "Epoch 55/100\n",
            "988/988 [==============================] - 4s 5ms/step - loss: 5907.4155\n",
            "Epoch 56/100\n",
            "988/988 [==============================] - 4s 5ms/step - loss: 5842.5073\n",
            "Epoch 57/100\n",
            "988/988 [==============================] - 4s 5ms/step - loss: 6131.1812\n",
            "Epoch 58/100\n",
            "988/988 [==============================] - 4s 4ms/step - loss: 5632.4004\n",
            "Epoch 59/100\n",
            "988/988 [==============================] - 4s 4ms/step - loss: 5444.1255\n",
            "Epoch 60/100\n",
            "988/988 [==============================] - 4s 4ms/step - loss: 5896.4116\n",
            "Epoch 61/100\n",
            "988/988 [==============================] - 4s 4ms/step - loss: 5348.3955\n",
            "Epoch 62/100\n",
            "988/988 [==============================] - 4s 4ms/step - loss: 5228.3271\n",
            "Epoch 63/100\n",
            "988/988 [==============================] - 4s 4ms/step - loss: 5571.0376\n",
            "Epoch 64/100\n",
            "988/988 [==============================] - 4s 4ms/step - loss: 5214.0298\n",
            "Epoch 65/100\n",
            "988/988 [==============================] - 4s 4ms/step - loss: 6021.2383\n",
            "Epoch 66/100\n",
            "988/988 [==============================] - 4s 4ms/step - loss: 5590.8477\n",
            "Epoch 67/100\n",
            "988/988 [==============================] - 4s 4ms/step - loss: 5672.0112\n",
            "Epoch 68/100\n",
            "988/988 [==============================] - 4s 4ms/step - loss: 5865.2856\n",
            "Epoch 69/100\n",
            "988/988 [==============================] - 4s 4ms/step - loss: 5478.2471\n",
            "Epoch 70/100\n",
            "988/988 [==============================] - 4s 4ms/step - loss: 5609.1660\n",
            "Epoch 71/100\n",
            "988/988 [==============================] - 4s 4ms/step - loss: 6014.8721\n",
            "Epoch 72/100\n",
            "988/988 [==============================] - 4s 4ms/step - loss: 5665.5898\n",
            "Epoch 73/100\n",
            "988/988 [==============================] - 4s 4ms/step - loss: 5694.6865\n",
            "Epoch 74/100\n",
            "988/988 [==============================] - 4s 4ms/step - loss: 6443.7935\n",
            "Epoch 75/100\n",
            "988/988 [==============================] - 4s 4ms/step - loss: 5850.6948\n",
            "Epoch 76/100\n",
            "988/988 [==============================] - 4s 4ms/step - loss: 5431.0303\n",
            "Epoch 77/100\n",
            "988/988 [==============================] - 4s 4ms/step - loss: 5535.8921\n",
            "Epoch 78/100\n",
            "988/988 [==============================] - 4s 4ms/step - loss: 5965.5020\n",
            "Epoch 79/100\n",
            "988/988 [==============================] - 4s 4ms/step - loss: 4971.9419\n",
            "Epoch 80/100\n",
            "988/988 [==============================] - 4s 4ms/step - loss: 5928.2070\n",
            "Epoch 81/100\n",
            "988/988 [==============================] - 4s 4ms/step - loss: 5083.0337\n",
            "Epoch 82/100\n",
            "988/988 [==============================] - 4s 4ms/step - loss: 4999.0835\n",
            "Epoch 83/100\n",
            "988/988 [==============================] - 4s 4ms/step - loss: 5627.3765\n",
            "Epoch 84/100\n",
            "988/988 [==============================] - 4s 4ms/step - loss: 5776.9507\n",
            "Epoch 85/100\n",
            "988/988 [==============================] - 4s 4ms/step - loss: 5595.3066\n",
            "Epoch 86/100\n",
            "988/988 [==============================] - 4s 4ms/step - loss: 5774.1729\n",
            "Epoch 87/100\n",
            "988/988 [==============================] - 4s 4ms/step - loss: 5426.1826\n",
            "Epoch 88/100\n",
            "988/988 [==============================] - 4s 4ms/step - loss: 5481.5723\n",
            "Epoch 89/100\n",
            "988/988 [==============================] - 4s 4ms/step - loss: 5206.7959\n",
            "Epoch 90/100\n",
            "988/988 [==============================] - 4s 4ms/step - loss: 4904.2915\n",
            "Epoch 91/100\n",
            "988/988 [==============================] - 4s 4ms/step - loss: 5178.4292\n",
            "Epoch 92/100\n",
            "988/988 [==============================] - 4s 4ms/step - loss: 5916.3887\n",
            "Epoch 93/100\n",
            "988/988 [==============================] - 4s 4ms/step - loss: 5196.9038\n",
            "Epoch 94/100\n",
            "988/988 [==============================] - 4s 4ms/step - loss: 5147.5449\n",
            "Epoch 95/100\n",
            "988/988 [==============================] - 4s 4ms/step - loss: 5976.5278\n",
            "Epoch 96/100\n",
            "988/988 [==============================] - 4s 4ms/step - loss: 5556.3442\n",
            "Epoch 97/100\n",
            "988/988 [==============================] - 4s 4ms/step - loss: 5163.0303\n",
            "Epoch 98/100\n",
            "988/988 [==============================] - 4s 4ms/step - loss: 5017.8828\n",
            "Epoch 99/100\n",
            "988/988 [==============================] - 4s 4ms/step - loss: 5254.4282\n",
            "Epoch 100/100\n",
            "988/988 [==============================] - 4s 4ms/step - loss: 5589.8071\n"
          ]
        },
        {
          "output_type": "execute_result",
          "data": {
            "text/plain": [
              "<keras.callbacks.History at 0x7fd8af225210>"
            ]
          },
          "metadata": {},
          "execution_count": 6
        }
      ]
    },
    {
      "cell_type": "code",
      "source": [
        "import pandas_ta\n",
        "a.ta.ema(close='BTC', length=10, append=True)"
      ],
      "metadata": {
        "colab": {
          "base_uri": "https://localhost:8080/",
          "height": 329
        },
        "id": "hSvggBGBSxvC",
        "outputId": "72ab3483-4700-4c60-eb7f-1d178ca27e40"
      },
      "execution_count": null,
      "outputs": [
        {
          "output_type": "error",
          "ename": "ModuleNotFoundError",
          "evalue": "ignored",
          "traceback": [
            "\u001b[0;31m---------------------------------------------------------------------------\u001b[0m",
            "\u001b[0;31mModuleNotFoundError\u001b[0m                       Traceback (most recent call last)",
            "\u001b[0;32m<ipython-input-8-af6807ae56a9>\u001b[0m in \u001b[0;36m<module>\u001b[0;34m()\u001b[0m\n\u001b[0;32m----> 1\u001b[0;31m \u001b[0;32mimport\u001b[0m \u001b[0mpandas_ta\u001b[0m\u001b[0;34m\u001b[0m\u001b[0;34m\u001b[0m\u001b[0m\n\u001b[0m\u001b[1;32m      2\u001b[0m \u001b[0ma\u001b[0m\u001b[0;34m.\u001b[0m\u001b[0mta\u001b[0m\u001b[0;34m.\u001b[0m\u001b[0mema\u001b[0m\u001b[0;34m(\u001b[0m\u001b[0mclose\u001b[0m\u001b[0;34m=\u001b[0m\u001b[0;34m'BTC'\u001b[0m\u001b[0;34m,\u001b[0m \u001b[0mlength\u001b[0m\u001b[0;34m=\u001b[0m\u001b[0;36m10\u001b[0m\u001b[0;34m,\u001b[0m \u001b[0mappend\u001b[0m\u001b[0;34m=\u001b[0m\u001b[0;32mTrue\u001b[0m\u001b[0;34m)\u001b[0m\u001b[0;34m\u001b[0m\u001b[0;34m\u001b[0m\u001b[0m\n",
            "\u001b[0;31mModuleNotFoundError\u001b[0m: No module named 'pandas_ta'",
            "",
            "\u001b[0;31m---------------------------------------------------------------------------\u001b[0;32m\nNOTE: If your import is failing due to a missing package, you can\nmanually install dependencies using either !pip or !apt.\n\nTo view examples of installing some common dependencies, click the\n\"Open Examples\" button below.\n\u001b[0;31m---------------------------------------------------------------------------\u001b[0m\n"
          ],
          "errorDetails": {
            "actions": [
              {
                "action": "open_url",
                "actionText": "Open Examples",
                "url": "/notebooks/snippets/importing_libraries.ipynb"
              }
            ]
          }
        }
      ]
    },
    {
      "cell_type": "markdown",
      "metadata": {
        "id": "CXIJdjqVlTkU"
      },
      "source": [
        "### Question 2 (25 points) The objective of this task is to detect hate speech in tweets. For the sake of simplicity, we say a tweet contains hate speech if it has a racist or sexist sentiment associated with it. So, the task is to classify racist or sexist tweets from other tweets. Formally, given a training sample of tweets and labels, where label '1' denotes the tweet is racist/sexist and label '0' denotes the tweet is not racist/sexist, your objective is to predict the labels on the test dataset. The dataset can be downloaded here: https://github.com/unt-iialab/info5502-spring2022/tree/main/datasets/Twitter%20Sentiment%20Analysis. Please build a logistic regression model for the classification, evaluation metrics include accuracy, precision, recall, and F-1 score need to be reported. "
      ]
    },
    {
      "cell_type": "code",
      "source": [
        "import re\n",
        "import pandas as pd \n",
        "import numpy as np \n",
        "import matplotlib.pyplot as plt \n",
        "import seaborn as sns\n",
        "import string\n",
        "import nltk\n",
        "import warnings \n",
        "warnings.filterwarnings(\"ignore\", category=DeprecationWarning)\n",
        "\n",
        "%matplotlib inline\n",
        "tr = pd.read_csv('/content/train 2.csv')\n",
        "tst = pd.read_csv('/content/test.csv')\n",
        "tr.head()\n",
        "cz = tr.append(tst, ignore_index = True)\n",
        "tr.head()"
      ],
      "metadata": {
        "colab": {
          "base_uri": "https://localhost:8080/",
          "height": 250
        },
        "id": "sqTGJqVKt6NP",
        "outputId": "f1608432-b02a-4ad7-a89e-cd56a371f6e4"
      },
      "execution_count": null,
      "outputs": [
        {
          "output_type": "execute_result",
          "data": {
            "text/plain": [
              "   id  label  \\\n",
              "0   1      0   \n",
              "1   2      0   \n",
              "2   3      0   \n",
              "3   4      0   \n",
              "4   5      0   \n",
              "\n",
              "                                                                                                                        tweet  \n",
              "0                       @user when a father is dysfunctional and is so selfish he drags his kids into his dysfunction.   #run  \n",
              "1  @user @user thanks for #lyft credit i can't use cause they don't offer wheelchair vans in pdx.    #disapointed #getthanked  \n",
              "2                                                                                                         bihday your majesty  \n",
              "3                                      #model   i love u take with u all the time in urð±!!! ðððð\n",
              "ð¦ð¦ð¦    \n",
              "4                                                                                      factsguide: society now    #motivation  "
            ],
            "text/html": [
              "\n",
              "  <div id=\"df-edf45ea6-1b61-4b54-b1ee-9c6bf7c91c66\">\n",
              "    <div class=\"colab-df-container\">\n",
              "      <div>\n",
              "<style scoped>\n",
              "    .dataframe tbody tr th:only-of-type {\n",
              "        vertical-align: middle;\n",
              "    }\n",
              "\n",
              "    .dataframe tbody tr th {\n",
              "        vertical-align: top;\n",
              "    }\n",
              "\n",
              "    .dataframe thead th {\n",
              "        text-align: right;\n",
              "    }\n",
              "</style>\n",
              "<table border=\"1\" class=\"dataframe\">\n",
              "  <thead>\n",
              "    <tr style=\"text-align: right;\">\n",
              "      <th></th>\n",
              "      <th>id</th>\n",
              "      <th>label</th>\n",
              "      <th>tweet</th>\n",
              "    </tr>\n",
              "  </thead>\n",
              "  <tbody>\n",
              "    <tr>\n",
              "      <th>0</th>\n",
              "      <td>1</td>\n",
              "      <td>0</td>\n",
              "      <td>@user when a father is dysfunctional and is so selfish he drags his kids into his dysfunction.   #run</td>\n",
              "    </tr>\n",
              "    <tr>\n",
              "      <th>1</th>\n",
              "      <td>2</td>\n",
              "      <td>0</td>\n",
              "      <td>@user @user thanks for #lyft credit i can't use cause they don't offer wheelchair vans in pdx.    #disapointed #getthanked</td>\n",
              "    </tr>\n",
              "    <tr>\n",
              "      <th>2</th>\n",
              "      <td>3</td>\n",
              "      <td>0</td>\n",
              "      <td>bihday your majesty</td>\n",
              "    </tr>\n",
              "    <tr>\n",
              "      <th>3</th>\n",
              "      <td>4</td>\n",
              "      <td>0</td>\n",
              "      <td>#model   i love u take with u all the time in urð±!!! ððððð¦ð¦ð¦</td>\n",
              "    </tr>\n",
              "    <tr>\n",
              "      <th>4</th>\n",
              "      <td>5</td>\n",
              "      <td>0</td>\n",
              "      <td>factsguide: society now    #motivation</td>\n",
              "    </tr>\n",
              "  </tbody>\n",
              "</table>\n",
              "</div>\n",
              "      <button class=\"colab-df-convert\" onclick=\"convertToInteractive('df-edf45ea6-1b61-4b54-b1ee-9c6bf7c91c66')\"\n",
              "              title=\"Convert this dataframe to an interactive table.\"\n",
              "              style=\"display:none;\">\n",
              "        \n",
              "  <svg xmlns=\"http://www.w3.org/2000/svg\" height=\"24px\"viewBox=\"0 0 24 24\"\n",
              "       width=\"24px\">\n",
              "    <path d=\"M0 0h24v24H0V0z\" fill=\"none\"/>\n",
              "    <path d=\"M18.56 5.44l.94 2.06.94-2.06 2.06-.94-2.06-.94-.94-2.06-.94 2.06-2.06.94zm-11 1L8.5 8.5l.94-2.06 2.06-.94-2.06-.94L8.5 2.5l-.94 2.06-2.06.94zm10 10l.94 2.06.94-2.06 2.06-.94-2.06-.94-.94-2.06-.94 2.06-2.06.94z\"/><path d=\"M17.41 7.96l-1.37-1.37c-.4-.4-.92-.59-1.43-.59-.52 0-1.04.2-1.43.59L10.3 9.45l-7.72 7.72c-.78.78-.78 2.05 0 2.83L4 21.41c.39.39.9.59 1.41.59.51 0 1.02-.2 1.41-.59l7.78-7.78 2.81-2.81c.8-.78.8-2.07 0-2.86zM5.41 20L4 18.59l7.72-7.72 1.47 1.35L5.41 20z\"/>\n",
              "  </svg>\n",
              "      </button>\n",
              "      \n",
              "  <style>\n",
              "    .colab-df-container {\n",
              "      display:flex;\n",
              "      flex-wrap:wrap;\n",
              "      gap: 12px;\n",
              "    }\n",
              "\n",
              "    .colab-df-convert {\n",
              "      background-color: #E8F0FE;\n",
              "      border: none;\n",
              "      border-radius: 50%;\n",
              "      cursor: pointer;\n",
              "      display: none;\n",
              "      fill: #1967D2;\n",
              "      height: 32px;\n",
              "      padding: 0 0 0 0;\n",
              "      width: 32px;\n",
              "    }\n",
              "\n",
              "    .colab-df-convert:hover {\n",
              "      background-color: #E2EBFA;\n",
              "      box-shadow: 0px 1px 2px rgba(60, 64, 67, 0.3), 0px 1px 3px 1px rgba(60, 64, 67, 0.15);\n",
              "      fill: #174EA6;\n",
              "    }\n",
              "\n",
              "    [theme=dark] .colab-df-convert {\n",
              "      background-color: #3B4455;\n",
              "      fill: #D2E3FC;\n",
              "    }\n",
              "\n",
              "    [theme=dark] .colab-df-convert:hover {\n",
              "      background-color: #434B5C;\n",
              "      box-shadow: 0px 1px 3px 1px rgba(0, 0, 0, 0.15);\n",
              "      filter: drop-shadow(0px 1px 2px rgba(0, 0, 0, 0.3));\n",
              "      fill: #FFFFFF;\n",
              "    }\n",
              "  </style>\n",
              "\n",
              "      <script>\n",
              "        const buttonEl =\n",
              "          document.querySelector('#df-edf45ea6-1b61-4b54-b1ee-9c6bf7c91c66 button.colab-df-convert');\n",
              "        buttonEl.style.display =\n",
              "          google.colab.kernel.accessAllowed ? 'block' : 'none';\n",
              "\n",
              "        async function convertToInteractive(key) {\n",
              "          const element = document.querySelector('#df-edf45ea6-1b61-4b54-b1ee-9c6bf7c91c66');\n",
              "          const dataTable =\n",
              "            await google.colab.kernel.invokeFunction('convertToInteractive',\n",
              "                                                     [key], {});\n",
              "          if (!dataTable) return;\n",
              "\n",
              "          const docLinkHtml = 'Like what you see? Visit the ' +\n",
              "            '<a target=\"_blank\" href=https://colab.research.google.com/notebooks/data_table.ipynb>data table notebook</a>'\n",
              "            + ' to learn more about interactive tables.';\n",
              "          element.innerHTML = '';\n",
              "          dataTable['output_type'] = 'display_data';\n",
              "          await google.colab.output.renderOutput(dataTable, element);\n",
              "          const docLink = document.createElement('div');\n",
              "          docLink.innerHTML = docLinkHtml;\n",
              "          element.appendChild(docLink);\n",
              "        }\n",
              "      </script>\n",
              "    </div>\n",
              "  </div>\n",
              "  "
            ]
          },
          "metadata": {},
          "execution_count": 104
        }
      ]
    },
    {
      "cell_type": "code",
      "source": [
        "def remove_pattern(input_txt, pattern):\n",
        "    r = re.findall(pattern, input_txt)\n",
        "    for i in r:\n",
        "        input_txt = re.sub(i,'',input_txt)\n",
        "    return input_txt\n",
        "cz['tidy_tweet'] = np.vectorize(remove_pattern)(cz['tweet'], '@[\\w]*')\n",
        "cz['tidy_tweet'] = cz['tidy_tweet'].str.replace('[^a-zA-Z#]+',' ')\n",
        "cz['tidy_tweet'] = cz['tidy_tweet'].apply(lambda x: ' '.join([w for w in x.split() if len(w) > 3]))\n",
        "tokenized_tweet = cz['tidy_tweet'].apply(lambda x: x.split())\n",
        "from nltk.stem.porter import *\n",
        "stemmer = PorterStemmer()\n",
        "tokenized_tweet = tokenized_tweet.apply(lambda x: [stemmer.stem(i) for i in x])\n",
        "for i in range(len(tokenized_tweet)):\n",
        "    tokenized_tweet[i] = ' '.join(tokenized_tweet[i])\n",
        "cz['tidy_tweet']  = tokenized_tweet\n",
        "all_words = ' '.join([text for text in cz['tidy_tweet']])\n",
        "from wordcloud import WordCloud\n",
        "wordcloud = WordCloud(width=800, height=500, random_state=21, max_font_size=110).generate(all_words)\n",
        "plt.figure(figsize=(10, 7))\n",
        "plt.imshow(wordcloud, interpolation=\"bilinear\")\n",
        "plt.axis('off')\n",
        "plt.show()"
      ],
      "metadata": {
        "id": "UjAgSlXSuyuq"
      },
      "execution_count": null,
      "outputs": []
    },
    {
      "cell_type": "code",
      "source": [
        "def hashtag_extract(x):\n",
        "    hashtags = []\n",
        "    for i in x:\n",
        "        ht = re.findall(r'#(\\w+)', i)\n",
        "        hashtags.append(ht)\n",
        "    return hashtags\n",
        "HT_regular = hashtag_extract(cz['tidy_tweet'][cz['label'] == 0])\n",
        "HT_negative = hashtag_extract(cz['tidy_tweet'][cz['label'] == 1])\n",
        "HT_regular = sum(HT_regular, [])\n",
        "HT_negative = sum(HT_negative, [])\n",
        "azr = nltk.FreqDist(HT_regular)\n",
        "dps = pd.DataFrame({'Hashtag': list(azr.keys()),\n",
        "                  'Count' : list(azr.values())})\n",
        "dps = dps.nlargest(columns = 'Count', n = 100)\n",
        "plt.figure(figsize = (16,5))\n",
        "azrx = sns.barplot(data =dps, x = 'Hashtag', y = 'Count')\n",
        "plt.show()"
      ],
      "metadata": {
        "colab": {
          "base_uri": "https://localhost:8080/",
          "height": 313
        },
        "id": "NG-yEjX3vDm3",
        "outputId": "a890752f-7deb-4063-cd21-a8b13bc5a758"
      },
      "execution_count": null,
      "outputs": [
        {
          "output_type": "display_data",
          "data": {
            "text/plain": [
              "<Figure size 1152x360 with 1 Axes>"
            ],
            "image/png": "[encoded data removed]"
          },
          "metadata": {
            "needs_background": "light"
          }
        }
      ]
    },
    {
      "cell_type": "code",
      "source": [
        "#Racist Tweet\n",
        "\n",
        "azr = nltk.FreqDist(HT_negative)\n",
        "dps = pd.DataFrame({'Hashtag': list(azr.keys()),\n",
        "                  'Count' : list(azr.values())})\n",
        "\n",
        "dps = dps.nlargest(columns = 'Count', n = 100)\n",
        "\n",
        "plt.figure(figsize = (16,5))\n",
        "azrx = sns.barplot(data =dps, x = 'Hashtag', y = 'Count')\n",
        "plt.show()"
      ],
      "metadata": {
        "colab": {
          "base_uri": "https://localhost:8080/",
          "height": 313
        },
        "id": "9ehmp28hveoI",
        "outputId": "302e064b-b627-4a9f-e87f-7b22423acf44"
      },
      "execution_count": null,
      "outputs": [
        {
          "output_type": "display_data",
          "data": {
            "text/plain": [
              "<Figure size 1152x360 with 1 Axes>"
            ],
            "image/png": "[encoded data removed]"
          },
          "metadata": {
            "needs_background": "light"
          }
        }
      ]
    },
    {
      "cell_type": "code",
      "source": [
        "from sklearn.feature_extraction.text import CountVectorizer\n",
        "bow_vectorizer = CountVectorizer(max_df=0.99, min_df=6, max_features=1000, stop_words='english')\n",
        "bow = bow_vectorizer.fit_transform(cz['tidy_tweet'])\n",
        "len(bow_vectorizer.get_feature_names())\n",
        "from sklearn.feature_extraction.text import TfidfVectorizer\n",
        "tfidf_vectorizer = TfidfVectorizer(max_df=0.99, min_df=6, max_features=1000, stop_words='english')\n",
        "tfidf = tfidf_vectorizer.fit_transform(cz['tidy_tweet'])\n",
        "tr.shape\n",
        "from sklearn.linear_model import LogisticRegression\n",
        "from sklearn.model_selection import train_test_split\n",
        "from sklearn.metrics import f1_score\n",
        "tr_bow = bow[:31962,:]\n",
        "tst_bow = bow[31962:,:]\n",
        "xtr_bow, xvalid_bow, ytr, yvalid = train_test_split(tr_bow, tr['label'], test_size = 0.5)\n",
        "lr = LogisticRegression()\n",
        "lr.fit(xtr_bow, ytr)\n",
        "pr = lr.predict_proba(xvalid_bow)\n",
        "pre_int = pr[:,1] >= 0.5\n",
        "pre_int = pre_int.astype(np.int)\n",
        "f1_score(yvalid, pre_int)"
      ],
      "metadata": {
        "colab": {
          "base_uri": "https://localhost:8080/"
        },
        "id": "f5UYFxsOv6Gi",
        "outputId": "de6606bb-fca7-42f2-8924-fb0c02654b3e"
      },
      "execution_count": null,
      "outputs": [
        {
          "output_type": "stream",
          "name": "stderr",
          "text": [
            "/usr/local/lib/python3.7/dist-packages/sklearn/utils/deprecation.py:87: FutureWarning: Function get_feature_names is deprecated; get_feature_names is deprecated in 1.0 and will be removed in 1.2. Please use get_feature_names_out instead.\n",
            "  warnings.warn(msg, category=FutureWarning)\n"
          ]
        },
        {
          "output_type": "execute_result",
          "data": {
            "text/plain": [
              "0.4796104686548996"
            ]
          },
          "metadata": {},
          "execution_count": 107
        }
      ]
    }
  ],
  "metadata": {
    "kernelspec": {
      "display_name": "Python 3",
      "language": "python",
      "name": "python3"
    },
    "language_info": {
      "codemirror_mode": {
        "name": "ipython",
        "version": 3
      },
      "file_extension": ".py",
      "mimetype": "text/x-python",
      "name": "python",
      "nbconvert_exporter": "python",
      "pygments_lexer": "ipython3",
      "version": "3.8.5"
    },
    "colab": {
      "name": "lab_assignment_07.ipynb",
      "provenance": [],
      "include_colab_link": true
    }
  },
  "nbformat": 4,
  "nbformat_minor": 0
}